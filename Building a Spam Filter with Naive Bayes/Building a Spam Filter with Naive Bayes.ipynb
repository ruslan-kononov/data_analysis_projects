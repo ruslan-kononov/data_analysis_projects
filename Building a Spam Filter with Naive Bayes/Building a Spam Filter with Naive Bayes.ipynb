{
 "cells": [
  {
   "cell_type": "markdown",
   "metadata": {
    "id": "nK4VD6-nw-Zh"
   },
   "source": [
    "# Building a Spam Filter with Naive Bayes\n",
    "### Introduction\n",
    "\n",
    "In this project, we used the Naive Bayes technique to build a spam classifier for SMS messages. To train the classifier to distinguish between spam and non-spam messages, we used the multinomial Naive Bayes algorithm along with a dataset of 5,572 SMS messages that were manually classified by humans.\n",
    "\n",
    "### Data\n",
    "\n",
    "The dataset was put together by Tiago A. Almeida and José María Gómez Hidalgo, and it can be downloaded from <a href='https://archive.ics.uci.edu/ml/datasets/sms+spam+collection'>The UCI Machine Learning Repository</a>. The data collection process along is described in more details <a href='http://www.dt.fee.unicamp.br/~tiago/smsspamcollection/#composition'>on this page</a>. The authors' papers related to the above-mentioned dataset can be found also by following <a href='http://www.dt.fee.unicamp.br/~tiago/smsspamcollection/#composition'>this link</a>.\n",
    "\n",
    "### Outcome\n",
    "\n",
    "In this project, we managed to build a spam classifier for SMS messages using the multinomial Naive Bayes algorithm. Due to effective text preprocessig techniques and feature engineering, we achieved accuracy of 98.56% on the test set.\n",
    "\n",
    "## Data Exploration\n",
    "### Read in the data"
   ]
  },
  {
   "cell_type": "code",
   "execution_count": 1,
   "metadata": {
    "colab": {
     "base_uri": "https://localhost:8080/"
    },
    "executionInfo": {
     "elapsed": 852,
     "status": "ok",
     "timestamp": 1634043929539,
     "user": {
      "displayName": "Руслан Кононов",
      "photoUrl": "https://lh3.googleusercontent.com/a-/AOh14GiVZ-X3ORutdtZNCrIgQy7yO1Mp7-3FEu1ErUEH=s64",
      "userId": "05800815536516945683"
     },
     "user_tz": -180
    },
    "id": "Gom2SCumw-Zk",
    "outputId": "47bb48fb-c376-4ae0-ed9f-a0aacce80f5e"
   },
   "outputs": [
    {
     "name": "stderr",
     "output_type": "stream",
     "text": [
      "[nltk_data] Downloading package stopwords to\n",
      "[nltk_data]     /Users/ruslankononov/nltk_data...\n",
      "[nltk_data]   Package stopwords is already up-to-date!\n",
      "[nltk_data] Downloading package wordnet to\n",
      "[nltk_data]     /Users/ruslankononov/nltk_data...\n",
      "[nltk_data]   Package wordnet is already up-to-date!\n"
     ]
    }
   ],
   "source": [
    "import pandas as pd\n",
    "import numpy\n",
    "import nltk\n",
    "from nltk.corpus import stopwords\n",
    "from nltk.stem.porter import PorterStemmer\n",
    "from nltk.stem import WordNetLemmatizer\n",
    "from IPython.display import Image, display\n",
    "import re\n",
    "\n",
    "nltk.download('stopwords')\n",
    "nltk.download('wordnet')\n",
    "\n",
    "# enable visualizations\n",
    "import matplotlib.pyplot as plt\n",
    "%matplotlib inline\n",
    "\n",
    "# apply ggplot style to matplotlib graphs\n",
    "plt.style.use('ggplot')"
   ]
  },
  {
   "cell_type": "code",
   "execution_count": 2,
   "metadata": {
    "executionInfo": {
     "elapsed": 28,
     "status": "ok",
     "timestamp": 1634043930056,
     "user": {
      "displayName": "Руслан Кононов",
      "photoUrl": "https://lh3.googleusercontent.com/a-/AOh14GiVZ-X3ORutdtZNCrIgQy7yO1Mp7-3FEu1ErUEH=s64",
      "userId": "05800815536516945683"
     },
     "user_tz": -180
    },
    "id": "IdkLmitJOuBg"
   },
   "outputs": [],
   "source": [
    "data = pd.read_csv('SMSSpamCollection',sep='\\t',header=None,names=['class_name','sms_text'])"
   ]
  },
  {
   "cell_type": "code",
   "execution_count": 3,
   "metadata": {
    "colab": {
     "base_uri": "https://localhost:8080/",
     "height": 359
    },
    "executionInfo": {
     "elapsed": 24,
     "status": "ok",
     "timestamp": 1634043930057,
     "user": {
      "displayName": "Руслан Кононов",
      "photoUrl": "https://lh3.googleusercontent.com/a-/AOh14GiVZ-X3ORutdtZNCrIgQy7yO1Mp7-3FEu1ErUEH=s64",
      "userId": "05800815536516945683"
     },
     "user_tz": -180
    },
    "id": "LrtyHPd8w-Zl",
    "outputId": "e8d86988-dc01-4fa4-970e-eae78a0dead1"
   },
   "outputs": [
    {
     "data": {
      "text/html": [
       "<div>\n",
       "<style scoped>\n",
       "    .dataframe tbody tr th:only-of-type {\n",
       "        vertical-align: middle;\n",
       "    }\n",
       "\n",
       "    .dataframe tbody tr th {\n",
       "        vertical-align: top;\n",
       "    }\n",
       "\n",
       "    .dataframe thead th {\n",
       "        text-align: right;\n",
       "    }\n",
       "</style>\n",
       "<table border=\"1\" class=\"dataframe\">\n",
       "  <thead>\n",
       "    <tr style=\"text-align: right;\">\n",
       "      <th></th>\n",
       "      <th>class_name</th>\n",
       "      <th>sms_text</th>\n",
       "    </tr>\n",
       "  </thead>\n",
       "  <tbody>\n",
       "    <tr>\n",
       "      <th>0</th>\n",
       "      <td>ham</td>\n",
       "      <td>Go until jurong point, crazy.. Available only ...</td>\n",
       "    </tr>\n",
       "    <tr>\n",
       "      <th>1</th>\n",
       "      <td>ham</td>\n",
       "      <td>Ok lar... Joking wif u oni...</td>\n",
       "    </tr>\n",
       "    <tr>\n",
       "      <th>2</th>\n",
       "      <td>spam</td>\n",
       "      <td>Free entry in 2 a wkly comp to win FA Cup fina...</td>\n",
       "    </tr>\n",
       "    <tr>\n",
       "      <th>3</th>\n",
       "      <td>ham</td>\n",
       "      <td>U dun say so early hor... U c already then say...</td>\n",
       "    </tr>\n",
       "    <tr>\n",
       "      <th>4</th>\n",
       "      <td>ham</td>\n",
       "      <td>Nah I don't think he goes to usf, he lives aro...</td>\n",
       "    </tr>\n",
       "    <tr>\n",
       "      <th>5</th>\n",
       "      <td>spam</td>\n",
       "      <td>FreeMsg Hey there darling it's been 3 week's n...</td>\n",
       "    </tr>\n",
       "    <tr>\n",
       "      <th>6</th>\n",
       "      <td>ham</td>\n",
       "      <td>Even my brother is not like to speak with me. ...</td>\n",
       "    </tr>\n",
       "    <tr>\n",
       "      <th>7</th>\n",
       "      <td>ham</td>\n",
       "      <td>As per your request 'Melle Melle (Oru Minnamin...</td>\n",
       "    </tr>\n",
       "    <tr>\n",
       "      <th>8</th>\n",
       "      <td>spam</td>\n",
       "      <td>WINNER!! As a valued network customer you have...</td>\n",
       "    </tr>\n",
       "    <tr>\n",
       "      <th>9</th>\n",
       "      <td>spam</td>\n",
       "      <td>Had your mobile 11 months or more? U R entitle...</td>\n",
       "    </tr>\n",
       "  </tbody>\n",
       "</table>\n",
       "</div>"
      ],
      "text/plain": [
       "  class_name                                           sms_text\n",
       "0        ham  Go until jurong point, crazy.. Available only ...\n",
       "1        ham                      Ok lar... Joking wif u oni...\n",
       "2       spam  Free entry in 2 a wkly comp to win FA Cup fina...\n",
       "3        ham  U dun say so early hor... U c already then say...\n",
       "4        ham  Nah I don't think he goes to usf, he lives aro...\n",
       "5       spam  FreeMsg Hey there darling it's been 3 week's n...\n",
       "6        ham  Even my brother is not like to speak with me. ...\n",
       "7        ham  As per your request 'Melle Melle (Oru Minnamin...\n",
       "8       spam  WINNER!! As a valued network customer you have...\n",
       "9       spam  Had your mobile 11 months or more? U R entitle..."
      ]
     },
     "execution_count": 3,
     "metadata": {},
     "output_type": "execute_result"
    }
   ],
   "source": [
    "data.head(10)"
   ]
  },
  {
   "cell_type": "code",
   "execution_count": 4,
   "metadata": {
    "colab": {
     "base_uri": "https://localhost:8080/"
    },
    "executionInfo": {
     "elapsed": 23,
     "status": "ok",
     "timestamp": 1634043930059,
     "user": {
      "displayName": "Руслан Кононов",
      "photoUrl": "https://lh3.googleusercontent.com/a-/AOh14GiVZ-X3ORutdtZNCrIgQy7yO1Mp7-3FEu1ErUEH=s64",
      "userId": "05800815536516945683"
     },
     "user_tz": -180
    },
    "id": "m4b0vR8ww-Zm",
    "outputId": "52b1fdd3-03fd-436f-814e-0ff25a16ba22"
   },
   "outputs": [
    {
     "name": "stdout",
     "output_type": "stream",
     "text": [
      "<class 'pandas.core.frame.DataFrame'>\n",
      "RangeIndex: 5572 entries, 0 to 5571\n",
      "Data columns (total 2 columns):\n",
      " #   Column      Non-Null Count  Dtype \n",
      "---  ------      --------------  ----- \n",
      " 0   class_name  5572 non-null   object\n",
      " 1   sms_text    5572 non-null   object\n",
      "dtypes: object(2)\n",
      "memory usage: 87.2+ KB\n"
     ]
    }
   ],
   "source": [
    "data.info()"
   ]
  },
  {
   "cell_type": "markdown",
   "metadata": {
    "id": "g97skY-0w-Zn"
   },
   "source": [
    "As we see, the dataset has 5572 rows and two columns. Luckily, there are no missing / NaN values. Let's now check distribution of messages in our dataset by their class name. We know that our messages can be either ham or spam."
   ]
  },
  {
   "cell_type": "code",
   "execution_count": 5,
   "metadata": {
    "colab": {
     "base_uri": "https://localhost:8080/",
     "height": 387
    },
    "executionInfo": {
     "elapsed": 18,
     "status": "ok",
     "timestamp": 1634043930059,
     "user": {
      "displayName": "Руслан Кононов",
      "photoUrl": "https://lh3.googleusercontent.com/a-/AOh14GiVZ-X3ORutdtZNCrIgQy7yO1Mp7-3FEu1ErUEH=s64",
      "userId": "05800815536516945683"
     },
     "user_tz": -180
    },
    "id": "oM9vxYzWw-Zn",
    "outputId": "3eb16208-3d28-4c01-9e45-39baa5d4863f"
   },
   "outputs": [
    {
     "data": {
      "image/png": "[encoded data removed]",
      "text/plain": [
       "<Figure size 432x432 with 1 Axes>"
      ]
     },
     "metadata": {},
     "output_type": "display_data"
    }
   ],
   "source": [
    "value_dist = data.class_name.value_counts(normalize=True)*100\n",
    "\n",
    "fig1, ax1 = plt.subplots(figsize=(6,6))\n",
    "ax1.pie(value_dist, labels=['non-spam','spam'], autopct='%1.1f%%',\n",
    "        shadow=True, startangle=90, textprops={'fontsize': 14})\n",
    "ax1.axis('equal') \n",
    "ax1.title.set_fontsize(16)\n",
    "plt.title(\"Messages by class in the dataset\", y = 1.04)\n",
    "plt.ylabel(\"\")\n",
    "\n",
    "plt.show()"
   ]
  },
  {
   "cell_type": "markdown",
   "metadata": {
    "id": "lkrgKfV1w-Zo"
   },
   "source": [
    "The graph above displays that almost __87% of the messages__ in the dataset __are ham (non-spam)__, and the remaining __13% are spam__."
   ]
  },
  {
   "cell_type": "markdown",
   "metadata": {
    "id": "9LjhOqM3w-Zp"
   },
   "source": [
    "## Splitting Dataset Into a Training and a Test Set"
   ]
  },
  {
   "cell_type": "markdown",
   "metadata": {
    "id": "Iod1cLGBw-Zp"
   },
   "source": [
    "Before training our classifiers, we are first going to __split our dataset into two parts__:\n",
    "\n",
    "- A __training set__, which we will use to \"train\" our classifiers.\n",
    "- A __test set__, which we will use to test performance of our classifiers.\n",
    "\n",
    "We are going to keep __80% of our dataset for training__, and __20% for testing__. As our dataset has 5,572 messages:\n",
    "\n",
    "- The training set will have 4,458 messages (about 80% of the dataset).\n",
    "- The test set will have 1,114 messages (about 20% of the dataset).\n",
    "\n",
    "__Let's start by randomizing the entire dataset__ to ensure that spam and ham messages are distributed randomly throughout the dataset.\n",
    "### Randomizing the dataset"
   ]
  },
  {
   "cell_type": "code",
   "execution_count": 6,
   "metadata": {
    "colab": {
     "base_uri": "https://localhost:8080/"
    },
    "executionInfo": {
     "elapsed": 17,
     "status": "ok",
     "timestamp": 1634043930060,
     "user": {
      "displayName": "Руслан Кононов",
      "photoUrl": "https://lh3.googleusercontent.com/a-/AOh14GiVZ-X3ORutdtZNCrIgQy7yO1Mp7-3FEu1ErUEH=s64",
      "userId": "05800815536516945683"
     },
     "user_tz": -180
    },
    "id": "JzpYIyDzw-Zq",
    "outputId": "290e5b3c-c8fd-4d52-f30c-e90a41f8c0a8"
   },
   "outputs": [
    {
     "name": "stdout",
     "output_type": "stream",
     "text": [
      "(4458, 2)\n",
      "(1114, 2)\n"
     ]
    }
   ],
   "source": [
    "# randomize the dataset\n",
    "data_randomized = data.sample(frac=1,random_state=1)\n",
    "\n",
    "# calculate index for split\n",
    "training_test_index = round(len(data_randomized) * 0.8)\n",
    "\n",
    "# create a training and a test set\n",
    "training_set = data_randomized[:training_test_index].reset_index(drop=True)\n",
    "test_set = data_randomized[training_test_index:].reset_index(drop=True)\n",
    "\n",
    "print(training_set.shape)\n",
    "print(test_set.shape)"
   ]
  },
  {
   "cell_type": "code",
   "execution_count": 7,
   "metadata": {
    "executionInfo": {
     "elapsed": 24,
     "status": "ok",
     "timestamp": 1634043930627,
     "user": {
      "displayName": "Руслан Кононов",
      "photoUrl": "https://lh3.googleusercontent.com/a-/AOh14GiVZ-X3ORutdtZNCrIgQy7yO1Mp7-3FEu1ErUEH=s64",
      "userId": "05800815536516945683"
     },
     "user_tz": -180
    },
    "id": "-1hgGVcFw-Zr"
   },
   "outputs": [],
   "source": [
    "# compare distribution of values in training and test sets\n",
    "value_dist_training = training_set.class_name.value_counts(normalize=True)*100\n",
    "value_dist_test = test_set.class_name.value_counts(normalize=True)*100"
   ]
  },
  {
   "cell_type": "code",
   "execution_count": 8,
   "metadata": {
    "colab": {
     "base_uri": "https://localhost:8080/",
     "height": 462
    },
    "executionInfo": {
     "elapsed": 428,
     "status": "ok",
     "timestamp": 1634044225554,
     "user": {
      "displayName": "Руслан Кононов",
      "photoUrl": "https://lh3.googleusercontent.com/a-/AOh14GiVZ-X3ORutdtZNCrIgQy7yO1Mp7-3FEu1ErUEH=s64",
      "userId": "05800815536516945683"
     },
     "user_tz": -180
    },
    "id": "3F4YILWAw-Zr",
    "outputId": "ded97066-a928-4e81-f382-a5e87000200d"
   },
   "outputs": [
    {
     "data": {
      "image/png": "[encoded data removed]",
      "text/plain": [
       "<Figure size 864x504 with 2 Axes>"
      ]
     },
     "metadata": {},
     "output_type": "display_data"
    }
   ],
   "source": [
    "# display distribution of values in training and test sets\n",
    "fig = plt.figure(figsize=(12,7))\n",
    "ax1 = fig.add_subplot(1,2,1)\n",
    "ax1.pie(value_dist_training, labels=['non-spam','spam'], autopct='%1.1f%%',\n",
    "        shadow=True, startangle=90, textprops={'fontsize': 14})\n",
    "ax1.axis('equal')  \n",
    "ax1.set_title('Test set', y=0.9, size=16)\n",
    "\n",
    "ax2 = fig.add_subplot(1,2,2)\n",
    "ax2.pie(value_dist_test, labels=['non-spam','spam'], autopct='%1.1f%%',\n",
    "        shadow=True, startangle=90, textprops={'fontsize': 14})\n",
    "ax2.axis('equal')\n",
    "ax2.set_title('Test set', y=0.9, size=16)\n",
    "fig.suptitle('Distribution of messages by class name in\\n the training and test sets', fontsize=18)\n",
    "plt.show()"
   ]
  },
  {
   "cell_type": "markdown",
   "metadata": {
    "id": "5g1MqWegw-Zs"
   },
   "source": [
    "The graph above demonstrates that the test set and the training set have similar distribution of target classes. Thus, __all the assumptions that we will infer from data in the training set must be valid for data in the test set too.__\n",
    "## Data Cleaning\n",
    "The next big step is to use our training data to train the algorithm to classify messages. __To start calculating parameters for a Naive Bayes classifier, we will__ first need to perform a bit of data cleaning to __bring the data in a format that will allow us to extract easily all the information we need__.\n",
    "\n",
    "In particular, we would like to bring the data to the following format:"
   ]
  },
  {
   "cell_type": "code",
   "execution_count": 9,
   "metadata": {
    "colab": {
     "base_uri": "https://localhost:8080/",
     "height": 414
    },
    "executionInfo": {
     "elapsed": 23,
     "status": "ok",
     "timestamp": 1634043930630,
     "user": {
      "displayName": "Руслан Кононов",
      "photoUrl": "https://lh3.googleusercontent.com/a-/AOh14GiVZ-X3ORutdtZNCrIgQy7yO1Mp7-3FEu1ErUEH=s64",
      "userId": "05800815536516945683"
     },
     "user_tz": -180
    },
    "id": "ZTo1dK_Y3JjV",
    "outputId": "1b673872-e0e8-44b4-ef71-46f18cd9ca2f"
   },
   "outputs": [
    {
     "data": {
      "image/png": "[encoded data removed]",
      "text/plain": [
       "<IPython.core.display.Image object>"
      ]
     },
     "metadata": {},
     "output_type": "display_data"
    }
   ],
   "source": [
    "display(Image('pic1.png'))"
   ]
  },
  {
   "cell_type": "markdown",
   "metadata": {
    "id": "JC97cb3pw-Zs"
   },
   "source": [
    "### Letter case and punctuation\n",
    "We will begin the data cleaning process by removing the punctuation and bringing all the words to lower case."
   ]
  },
  {
   "cell_type": "code",
   "execution_count": 10,
   "metadata": {
    "colab": {
     "base_uri": "https://localhost:8080/",
     "height": 266
    },
    "executionInfo": {
     "elapsed": 22,
     "status": "ok",
     "timestamp": 1634043930631,
     "user": {
      "displayName": "Руслан Кононов",
      "photoUrl": "https://lh3.googleusercontent.com/a-/AOh14GiVZ-X3ORutdtZNCrIgQy7yO1Mp7-3FEu1ErUEH=s64",
      "userId": "05800815536516945683"
     },
     "user_tz": -180
    },
    "id": "YqLmVQjpw-Zt",
    "outputId": "72a183e8-7dfb-4a29-b7e1-53b664dfe730"
   },
   "outputs": [
    {
     "data": {
      "text/html": [
       "<div>\n",
       "<style scoped>\n",
       "    .dataframe tbody tr th:only-of-type {\n",
       "        vertical-align: middle;\n",
       "    }\n",
       "\n",
       "    .dataframe tbody tr th {\n",
       "        vertical-align: top;\n",
       "    }\n",
       "\n",
       "    .dataframe thead th {\n",
       "        text-align: right;\n",
       "    }\n",
       "</style>\n",
       "<table border=\"1\" class=\"dataframe\">\n",
       "  <thead>\n",
       "    <tr style=\"text-align: right;\">\n",
       "      <th></th>\n",
       "      <th>class_name</th>\n",
       "      <th>sms_text</th>\n",
       "    </tr>\n",
       "  </thead>\n",
       "  <tbody>\n",
       "    <tr>\n",
       "      <th>0</th>\n",
       "      <td>ham</td>\n",
       "      <td>Yep, by the pretty sculpture</td>\n",
       "    </tr>\n",
       "    <tr>\n",
       "      <th>1</th>\n",
       "      <td>ham</td>\n",
       "      <td>Yes, princess. Are you going to make me moan?</td>\n",
       "    </tr>\n",
       "    <tr>\n",
       "      <th>2</th>\n",
       "      <td>ham</td>\n",
       "      <td>Welp apparently he retired</td>\n",
       "    </tr>\n",
       "    <tr>\n",
       "      <th>3</th>\n",
       "      <td>ham</td>\n",
       "      <td>Havent.</td>\n",
       "    </tr>\n",
       "    <tr>\n",
       "      <th>4</th>\n",
       "      <td>ham</td>\n",
       "      <td>I forgot 2 ask ü all smth.. There's a card on ...</td>\n",
       "    </tr>\n",
       "    <tr>\n",
       "      <th>5</th>\n",
       "      <td>ham</td>\n",
       "      <td>Ok i thk i got it. Then u wan me 2 come now or...</td>\n",
       "    </tr>\n",
       "    <tr>\n",
       "      <th>6</th>\n",
       "      <td>ham</td>\n",
       "      <td>I want kfc its Tuesday. Only buy 2 meals ONLY ...</td>\n",
       "    </tr>\n",
       "  </tbody>\n",
       "</table>\n",
       "</div>"
      ],
      "text/plain": [
       "  class_name                                           sms_text\n",
       "0        ham                       Yep, by the pretty sculpture\n",
       "1        ham      Yes, princess. Are you going to make me moan?\n",
       "2        ham                         Welp apparently he retired\n",
       "3        ham                                            Havent.\n",
       "4        ham  I forgot 2 ask ü all smth.. There's a card on ...\n",
       "5        ham  Ok i thk i got it. Then u wan me 2 come now or...\n",
       "6        ham  I want kfc its Tuesday. Only buy 2 meals ONLY ..."
      ]
     },
     "execution_count": 10,
     "metadata": {},
     "output_type": "execute_result"
    }
   ],
   "source": [
    "# data before cleaning\n",
    "training_set.head(7)"
   ]
  },
  {
   "cell_type": "code",
   "execution_count": 11,
   "metadata": {
    "colab": {
     "base_uri": "https://localhost:8080/",
     "height": 266
    },
    "executionInfo": {
     "elapsed": 22,
     "status": "ok",
     "timestamp": 1634043930632,
     "user": {
      "displayName": "Руслан Кононов",
      "photoUrl": "https://lh3.googleusercontent.com/a-/AOh14GiVZ-X3ORutdtZNCrIgQy7yO1Mp7-3FEu1ErUEH=s64",
      "userId": "05800815536516945683"
     },
     "user_tz": -180
    },
    "id": "kSSwBla4w-Zt",
    "outputId": "557d44b3-4380-4586-8cda-df2d160192e6"
   },
   "outputs": [
    {
     "name": "stderr",
     "output_type": "stream",
     "text": [
      "<ipython-input-11-ccb9de98215f>:2: FutureWarning: The default value of regex will change from True to False in a future version.\n",
      "  training_set['sms_clean'] = training_set['sms_text'].str.replace('\\W',' ').str.lower()\n",
      "<ipython-input-11-ccb9de98215f>:3: FutureWarning: The default value of regex will change from True to False in a future version.\n",
      "  training_set['sms_clean'] = training_set['sms_clean'].str.replace('\\s+',' ').str.strip()\n"
     ]
    },
    {
     "data": {
      "text/html": [
       "<div>\n",
       "<style scoped>\n",
       "    .dataframe tbody tr th:only-of-type {\n",
       "        vertical-align: middle;\n",
       "    }\n",
       "\n",
       "    .dataframe tbody tr th {\n",
       "        vertical-align: top;\n",
       "    }\n",
       "\n",
       "    .dataframe thead th {\n",
       "        text-align: right;\n",
       "    }\n",
       "</style>\n",
       "<table border=\"1\" class=\"dataframe\">\n",
       "  <thead>\n",
       "    <tr style=\"text-align: right;\">\n",
       "      <th></th>\n",
       "      <th>class_name</th>\n",
       "      <th>sms_text</th>\n",
       "      <th>sms_clean</th>\n",
       "    </tr>\n",
       "  </thead>\n",
       "  <tbody>\n",
       "    <tr>\n",
       "      <th>0</th>\n",
       "      <td>ham</td>\n",
       "      <td>Yep, by the pretty sculpture</td>\n",
       "      <td>yep by the pretty sculpture</td>\n",
       "    </tr>\n",
       "    <tr>\n",
       "      <th>1</th>\n",
       "      <td>ham</td>\n",
       "      <td>Yes, princess. Are you going to make me moan?</td>\n",
       "      <td>yes princess are you going to make me moan</td>\n",
       "    </tr>\n",
       "    <tr>\n",
       "      <th>2</th>\n",
       "      <td>ham</td>\n",
       "      <td>Welp apparently he retired</td>\n",
       "      <td>welp apparently he retired</td>\n",
       "    </tr>\n",
       "    <tr>\n",
       "      <th>3</th>\n",
       "      <td>ham</td>\n",
       "      <td>Havent.</td>\n",
       "      <td>havent</td>\n",
       "    </tr>\n",
       "    <tr>\n",
       "      <th>4</th>\n",
       "      <td>ham</td>\n",
       "      <td>I forgot 2 ask ü all smth.. There's a card on ...</td>\n",
       "      <td>i forgot 2 ask ü all smth there s a card on da...</td>\n",
       "    </tr>\n",
       "    <tr>\n",
       "      <th>5</th>\n",
       "      <td>ham</td>\n",
       "      <td>Ok i thk i got it. Then u wan me 2 come now or...</td>\n",
       "      <td>ok i thk i got it then u wan me 2 come now or wat</td>\n",
       "    </tr>\n",
       "    <tr>\n",
       "      <th>6</th>\n",
       "      <td>ham</td>\n",
       "      <td>I want kfc its Tuesday. Only buy 2 meals ONLY ...</td>\n",
       "      <td>i want kfc its tuesday only buy 2 meals only 2...</td>\n",
       "    </tr>\n",
       "  </tbody>\n",
       "</table>\n",
       "</div>"
      ],
      "text/plain": [
       "  class_name                                           sms_text  \\\n",
       "0        ham                       Yep, by the pretty sculpture   \n",
       "1        ham      Yes, princess. Are you going to make me moan?   \n",
       "2        ham                         Welp apparently he retired   \n",
       "3        ham                                            Havent.   \n",
       "4        ham  I forgot 2 ask ü all smth.. There's a card on ...   \n",
       "5        ham  Ok i thk i got it. Then u wan me 2 come now or...   \n",
       "6        ham  I want kfc its Tuesday. Only buy 2 meals ONLY ...   \n",
       "\n",
       "                                           sms_clean  \n",
       "0                        yep by the pretty sculpture  \n",
       "1         yes princess are you going to make me moan  \n",
       "2                         welp apparently he retired  \n",
       "3                                             havent  \n",
       "4  i forgot 2 ask ü all smth there s a card on da...  \n",
       "5  ok i thk i got it then u wan me 2 come now or wat  \n",
       "6  i want kfc its tuesday only buy 2 meals only 2...  "
      ]
     },
     "execution_count": 11,
     "metadata": {},
     "output_type": "execute_result"
    }
   ],
   "source": [
    "# remove remove all the punctuation, leading and trailing spaces and convert string to lowercase\n",
    "training_set['sms_clean'] = training_set['sms_text'].str.replace('\\W',' ').str.lower()\n",
    "training_set['sms_clean'] = training_set['sms_clean'].str.replace('\\s+',' ').str.strip()\n",
    "\n",
    "# data after cleaning\n",
    "training_set.head(7)"
   ]
  },
  {
   "cell_type": "markdown",
   "metadata": {
    "id": "vJu3DPaXw-Zu"
   },
   "source": [
    "### Removing stop words and lemmatisation\n",
    "Now we will create a vocabulary for the messages in the training set. The vocabulary will be a list containing all the unique words across all messages, where each word is represented as a string."
   ]
  },
  {
   "cell_type": "code",
   "execution_count": 12,
   "metadata": {
    "executionInfo": {
     "elapsed": 22,
     "status": "ok",
     "timestamp": 1634043930633,
     "user": {
      "displayName": "Руслан Кононов",
      "photoUrl": "https://lh3.googleusercontent.com/a-/AOh14GiVZ-X3ORutdtZNCrIgQy7yO1Mp7-3FEu1ErUEH=s64",
      "userId": "05800815536516945683"
     },
     "user_tz": -180
    },
    "id": "pMAEbBdzw-Zu"
   },
   "outputs": [],
   "source": [
    "# transform each message from the SMS column into a list of words\n",
    "training_set['sms_clean'] = training_set['sms_clean'].str.split(\" \")"
   ]
  },
  {
   "cell_type": "markdown",
   "metadata": {
    "id": "jYhBCgIjPdin"
   },
   "source": [
    "However, not all the words should end up in our vocabulary. It can be the case that some of the words may not provide any useful information or context to classify a message. For instance, prepositions like *`in`* and *`at`*, or conjunctions such as *`just`* and *`for`* are quite frequent but do not add much meaning to a sentence. Therefore, we can safely exclude them from the scope without sacrificing the meaning of the text. Additionally, we will remove all the numbers from our text messages."
   ]
  },
  {
   "cell_type": "code",
   "execution_count": 13,
   "metadata": {
    "executionInfo": {
     "elapsed": 23,
     "status": "ok",
     "timestamp": 1634043930634,
     "user": {
      "displayName": "Руслан Кононов",
      "photoUrl": "https://lh3.googleusercontent.com/a-/AOh14GiVZ-X3ORutdtZNCrIgQy7yO1Mp7-3FEu1ErUEH=s64",
      "userId": "05800815536516945683"
     },
     "user_tz": -180
    },
    "id": "32tZZ-WjN-2v"
   },
   "outputs": [],
   "source": [
    "# create a set of the stopwords \n",
    "stop_words = stopwords.words(\"english\")"
   ]
  },
  {
   "cell_type": "code",
   "execution_count": 14,
   "metadata": {
    "executionInfo": {
     "elapsed": 386,
     "status": "ok",
     "timestamp": 1634043930998,
     "user": {
      "displayName": "Руслан Кононов",
      "photoUrl": "https://lh3.googleusercontent.com/a-/AOh14GiVZ-X3ORutdtZNCrIgQy7yO1Mp7-3FEu1ErUEH=s64",
      "userId": "05800815536516945683"
     },
     "user_tz": -180
    },
    "id": "U0j-AcRZTWl1"
   },
   "outputs": [],
   "source": [
    "def remove_stepwords(text):\n",
    "    new_text = list()\n",
    "    for word in text:\n",
    "        if word not in stop_words and not word.isdigit():\n",
    "            new_text.append(word)\n",
    "    return new_text\n",
    "\n",
    "# remove the stopwords and numbers from the text\n",
    "training_set['sms_clean'] = training_set['sms_clean'].apply(remove_stepwords)"
   ]
  },
  {
   "cell_type": "code",
   "execution_count": 15,
   "metadata": {
    "colab": {
     "base_uri": "https://localhost:8080/"
    },
    "executionInfo": {
     "elapsed": 11,
     "status": "ok",
     "timestamp": 1634043930999,
     "user": {
      "displayName": "Руслан Кононов",
      "photoUrl": "https://lh3.googleusercontent.com/a-/AOh14GiVZ-X3ORutdtZNCrIgQy7yO1Mp7-3FEu1ErUEH=s64",
      "userId": "05800815536516945683"
     },
     "user_tz": -180
    },
    "id": "Cip8KUppUJoy",
    "outputId": "77e7c86e-7de5-425b-8ed2-a8390626de39"
   },
   "outputs": [
    {
     "data": {
      "text/plain": [
       "0                             [yep, pretty, sculpture]\n",
       "1                   [yes, princess, going, make, moan]\n",
       "2                          [welp, apparently, retired]\n",
       "3                                             [havent]\n",
       "4    [forgot, ask, ü, smth, card, da, present, lei,...\n",
       "Name: sms_clean, dtype: object"
      ]
     },
     "execution_count": 15,
     "metadata": {},
     "output_type": "execute_result"
    }
   ],
   "source": [
    "training_set['sms_clean'].head()"
   ]
  },
  {
   "cell_type": "markdown",
   "metadata": {
    "id": "s46WA_AmjHdZ"
   },
   "source": [
    "Appart from functional words, our vocabulary can contain various versions of a single word. For instance, for grammatical reasons, the word *`organise`* can have multiple forms, such as *`organises`*, *`organising`*, *`organised`*. Moreover, there can be families of related words with similar meanings. For example, words such as *`democratic`* and *`democratisation`* all stem from the word *`democracy`*. We can assume that, in most cases, having only a base form of a word is more than enough to determine a class of a message. The process of reducing various related forms of a word to its common base form is called lemmatization. \n",
    "\n",
    "Thus, let's lemmatise the words in our dataset."
   ]
  },
  {
   "cell_type": "code",
   "execution_count": 16,
   "metadata": {
    "executionInfo": {
     "elapsed": 4,
     "status": "ok",
     "timestamp": 1634043930999,
     "user": {
      "displayName": "Руслан Кононов",
      "photoUrl": "https://lh3.googleusercontent.com/a-/AOh14GiVZ-X3ORutdtZNCrIgQy7yO1Mp7-3FEu1ErUEH=s64",
      "userId": "05800815536516945683"
     },
     "user_tz": -180
    },
    "id": "XDM_Nj4NjLHD"
   },
   "outputs": [],
   "source": [
    "lemmatizer = WordNetLemmatizer()\n",
    "\n",
    "# lemmatise text\n",
    "def lemmatize_word(text):\n",
    "    new_text = [lemmatizer.lemmatize(word, pos ='v') for word in text]\n",
    "    return new_text"
   ]
  },
  {
   "cell_type": "code",
   "execution_count": 17,
   "metadata": {
    "executionInfo": {
     "elapsed": 1650,
     "status": "ok",
     "timestamp": 1634043932646,
     "user": {
      "displayName": "Руслан Кононов",
      "photoUrl": "https://lh3.googleusercontent.com/a-/AOh14GiVZ-X3ORutdtZNCrIgQy7yO1Mp7-3FEu1ErUEH=s64",
      "userId": "05800815536516945683"
     },
     "user_tz": -180
    },
    "id": "H1ghm_N7nxZt"
   },
   "outputs": [],
   "source": [
    "training_set['sms_clean'] = training_set['sms_clean'].apply(lemmatize_word)"
   ]
  },
  {
   "cell_type": "markdown",
   "metadata": {
    "id": "N7aJZzbM0KU4"
   },
   "source": [
    "## Creating Vocabulary"
   ]
  },
  {
   "cell_type": "code",
   "execution_count": 18,
   "metadata": {
    "executionInfo": {
     "elapsed": 20,
     "status": "ok",
     "timestamp": 1634043932659,
     "user": {
      "displayName": "Руслан Кононов",
      "photoUrl": "https://lh3.googleusercontent.com/a-/AOh14GiVZ-X3ORutdtZNCrIgQy7yO1Mp7-3FEu1ErUEH=s64",
      "userId": "05800815536516945683"
     },
     "user_tz": -180
    },
    "id": "OJEVR1SBw-Zv"
   },
   "outputs": [],
   "source": [
    "vocabulary = []\n",
    "\n",
    "for row in training_set['sms_clean']:\n",
    "    for word in row:\n",
    "        vocabulary.append(word)\n",
    "\n",
    "# remove duplicates from the vocabulary\n",
    "vocabulary = list(set(vocabulary))"
   ]
  },
  {
   "cell_type": "code",
   "execution_count": 19,
   "metadata": {
    "executionInfo": {
     "elapsed": 390,
     "status": "ok",
     "timestamp": 1634043933030,
     "user": {
      "displayName": "Руслан Кононов",
      "photoUrl": "https://lh3.googleusercontent.com/a-/AOh14GiVZ-X3ORutdtZNCrIgQy7yO1Mp7-3FEu1ErUEH=s64",
      "userId": "05800815536516945683"
     },
     "user_tz": -180
    },
    "id": "b3O_OIDMw-Zw"
   },
   "outputs": [],
   "source": [
    "word_counts_per_sms = {unique_word: [0] * len(training_set['sms_clean']) for unique_word in vocabulary}\n",
    "                             \n",
    "for index, sms in enumerate(training_set['sms_clean']):\n",
    "    for word in sms:\n",
    "        if not word.isdigit():\n",
    "            word_counts_per_sms[word][index] += 1                          "
   ]
  },
  {
   "cell_type": "code",
   "execution_count": 20,
   "metadata": {
    "colab": {
     "base_uri": "https://localhost:8080/",
     "height": 253
    },
    "executionInfo": {
     "elapsed": 7846,
     "status": "ok",
     "timestamp": 1634043940874,
     "user": {
      "displayName": "Руслан Кононов",
      "photoUrl": "https://lh3.googleusercontent.com/a-/AOh14GiVZ-X3ORutdtZNCrIgQy7yO1Mp7-3FEu1ErUEH=s64",
      "userId": "05800815536516945683"
     },
     "user_tz": -180
    },
    "id": "_-JzgLgSw-Zx",
    "outputId": "61bedbb6-732c-4b1b-8825-1aba70255f7d"
   },
   "outputs": [
    {
     "data": {
      "text/html": [
       "<div>\n",
       "<style scoped>\n",
       "    .dataframe tbody tr th:only-of-type {\n",
       "        vertical-align: middle;\n",
       "    }\n",
       "\n",
       "    .dataframe tbody tr th {\n",
       "        vertical-align: top;\n",
       "    }\n",
       "\n",
       "    .dataframe thead th {\n",
       "        text-align: right;\n",
       "    }\n",
       "</style>\n",
       "<table border=\"1\" class=\"dataframe\">\n",
       "  <thead>\n",
       "    <tr style=\"text-align: right;\">\n",
       "      <th></th>\n",
       "      <th>rp176781</th>\n",
       "      <th>vibrant</th>\n",
       "      <th>lambda</th>\n",
       "      <th>lionp</th>\n",
       "      <th>okmail</th>\n",
       "      <th>fran</th>\n",
       "      <th>merry</th>\n",
       "      <th>gas</th>\n",
       "      <th>wear</th>\n",
       "      <th>wicket</th>\n",
       "      <th>...</th>\n",
       "      <th>officially</th>\n",
       "      <th>cake</th>\n",
       "      <th>urination</th>\n",
       "      <th>stressfull</th>\n",
       "      <th>light</th>\n",
       "      <th>fgkslpo</th>\n",
       "      <th>dice</th>\n",
       "      <th>2watershd</th>\n",
       "      <th>cab</th>\n",
       "      <th>recognise</th>\n",
       "    </tr>\n",
       "  </thead>\n",
       "  <tbody>\n",
       "    <tr>\n",
       "      <th>0</th>\n",
       "      <td>0</td>\n",
       "      <td>0</td>\n",
       "      <td>0</td>\n",
       "      <td>0</td>\n",
       "      <td>0</td>\n",
       "      <td>0</td>\n",
       "      <td>0</td>\n",
       "      <td>0</td>\n",
       "      <td>0</td>\n",
       "      <td>0</td>\n",
       "      <td>...</td>\n",
       "      <td>0</td>\n",
       "      <td>0</td>\n",
       "      <td>0</td>\n",
       "      <td>0</td>\n",
       "      <td>0</td>\n",
       "      <td>0</td>\n",
       "      <td>0</td>\n",
       "      <td>0</td>\n",
       "      <td>0</td>\n",
       "      <td>0</td>\n",
       "    </tr>\n",
       "    <tr>\n",
       "      <th>1</th>\n",
       "      <td>0</td>\n",
       "      <td>0</td>\n",
       "      <td>0</td>\n",
       "      <td>0</td>\n",
       "      <td>0</td>\n",
       "      <td>0</td>\n",
       "      <td>0</td>\n",
       "      <td>0</td>\n",
       "      <td>0</td>\n",
       "      <td>0</td>\n",
       "      <td>...</td>\n",
       "      <td>0</td>\n",
       "      <td>0</td>\n",
       "      <td>0</td>\n",
       "      <td>0</td>\n",
       "      <td>0</td>\n",
       "      <td>0</td>\n",
       "      <td>0</td>\n",
       "      <td>0</td>\n",
       "      <td>0</td>\n",
       "      <td>0</td>\n",
       "    </tr>\n",
       "    <tr>\n",
       "      <th>2</th>\n",
       "      <td>0</td>\n",
       "      <td>0</td>\n",
       "      <td>0</td>\n",
       "      <td>0</td>\n",
       "      <td>0</td>\n",
       "      <td>0</td>\n",
       "      <td>0</td>\n",
       "      <td>0</td>\n",
       "      <td>0</td>\n",
       "      <td>0</td>\n",
       "      <td>...</td>\n",
       "      <td>0</td>\n",
       "      <td>0</td>\n",
       "      <td>0</td>\n",
       "      <td>0</td>\n",
       "      <td>0</td>\n",
       "      <td>0</td>\n",
       "      <td>0</td>\n",
       "      <td>0</td>\n",
       "      <td>0</td>\n",
       "      <td>0</td>\n",
       "    </tr>\n",
       "    <tr>\n",
       "      <th>3</th>\n",
       "      <td>0</td>\n",
       "      <td>0</td>\n",
       "      <td>0</td>\n",
       "      <td>0</td>\n",
       "      <td>0</td>\n",
       "      <td>0</td>\n",
       "      <td>0</td>\n",
       "      <td>0</td>\n",
       "      <td>0</td>\n",
       "      <td>0</td>\n",
       "      <td>...</td>\n",
       "      <td>0</td>\n",
       "      <td>0</td>\n",
       "      <td>0</td>\n",
       "      <td>0</td>\n",
       "      <td>0</td>\n",
       "      <td>0</td>\n",
       "      <td>0</td>\n",
       "      <td>0</td>\n",
       "      <td>0</td>\n",
       "      <td>0</td>\n",
       "    </tr>\n",
       "    <tr>\n",
       "      <th>4</th>\n",
       "      <td>0</td>\n",
       "      <td>0</td>\n",
       "      <td>0</td>\n",
       "      <td>0</td>\n",
       "      <td>0</td>\n",
       "      <td>0</td>\n",
       "      <td>0</td>\n",
       "      <td>0</td>\n",
       "      <td>0</td>\n",
       "      <td>0</td>\n",
       "      <td>...</td>\n",
       "      <td>0</td>\n",
       "      <td>0</td>\n",
       "      <td>0</td>\n",
       "      <td>0</td>\n",
       "      <td>0</td>\n",
       "      <td>0</td>\n",
       "      <td>0</td>\n",
       "      <td>0</td>\n",
       "      <td>0</td>\n",
       "      <td>0</td>\n",
       "    </tr>\n",
       "  </tbody>\n",
       "</table>\n",
       "<p>5 rows × 6267 columns</p>\n",
       "</div>"
      ],
      "text/plain": [
       "   rp176781  vibrant  lambda  lionp  okmail  fran  merry  gas  wear  wicket  \\\n",
       "0         0        0       0      0       0     0      0    0     0       0   \n",
       "1         0        0       0      0       0     0      0    0     0       0   \n",
       "2         0        0       0      0       0     0      0    0     0       0   \n",
       "3         0        0       0      0       0     0      0    0     0       0   \n",
       "4         0        0       0      0       0     0      0    0     0       0   \n",
       "\n",
       "   ...  officially  cake  urination  stressfull  light  fgkslpo  dice  \\\n",
       "0  ...           0     0          0           0      0        0     0   \n",
       "1  ...           0     0          0           0      0        0     0   \n",
       "2  ...           0     0          0           0      0        0     0   \n",
       "3  ...           0     0          0           0      0        0     0   \n",
       "4  ...           0     0          0           0      0        0     0   \n",
       "\n",
       "   2watershd  cab  recognise  \n",
       "0          0    0          0  \n",
       "1          0    0          0  \n",
       "2          0    0          0  \n",
       "3          0    0          0  \n",
       "4          0    0          0  \n",
       "\n",
       "[5 rows x 6267 columns]"
      ]
     },
     "execution_count": 20,
     "metadata": {},
     "output_type": "execute_result"
    }
   ],
   "source": [
    "word_counts = pd.DataFrame(data=word_counts_per_sms) \n",
    "word_counts = word_counts.drop(\"\",axis=1)\n",
    "word_counts.head()"
   ]
  },
  {
   "cell_type": "code",
   "execution_count": 21,
   "metadata": {
    "colab": {
     "base_uri": "https://localhost:8080/",
     "height": 491
    },
    "executionInfo": {
     "elapsed": 25,
     "status": "ok",
     "timestamp": 1634043940879,
     "user": {
      "displayName": "Руслан Кононов",
      "photoUrl": "https://lh3.googleusercontent.com/a-/AOh14GiVZ-X3ORutdtZNCrIgQy7yO1Mp7-3FEu1ErUEH=s64",
      "userId": "05800815536516945683"
     },
     "user_tz": -180
    },
    "id": "08cYjSu9w-Zy",
    "outputId": "5ec28578-7608-4fe3-c851-e5a30e9631bb"
   },
   "outputs": [
    {
     "data": {
      "text/html": [
       "<div>\n",
       "<style scoped>\n",
       "    .dataframe tbody tr th:only-of-type {\n",
       "        vertical-align: middle;\n",
       "    }\n",
       "\n",
       "    .dataframe tbody tr th {\n",
       "        vertical-align: top;\n",
       "    }\n",
       "\n",
       "    .dataframe thead th {\n",
       "        text-align: right;\n",
       "    }\n",
       "</style>\n",
       "<table border=\"1\" class=\"dataframe\">\n",
       "  <thead>\n",
       "    <tr style=\"text-align: right;\">\n",
       "      <th></th>\n",
       "      <th>class_name</th>\n",
       "      <th>sms_text</th>\n",
       "      <th>sms_clean</th>\n",
       "      <th>rp176781</th>\n",
       "      <th>vibrant</th>\n",
       "      <th>lambda</th>\n",
       "      <th>lionp</th>\n",
       "      <th>okmail</th>\n",
       "      <th>fran</th>\n",
       "      <th>merry</th>\n",
       "      <th>...</th>\n",
       "      <th>officially</th>\n",
       "      <th>cake</th>\n",
       "      <th>urination</th>\n",
       "      <th>stressfull</th>\n",
       "      <th>light</th>\n",
       "      <th>fgkslpo</th>\n",
       "      <th>dice</th>\n",
       "      <th>2watershd</th>\n",
       "      <th>cab</th>\n",
       "      <th>recognise</th>\n",
       "    </tr>\n",
       "  </thead>\n",
       "  <tbody>\n",
       "    <tr>\n",
       "      <th>0</th>\n",
       "      <td>ham</td>\n",
       "      <td>Yep, by the pretty sculpture</td>\n",
       "      <td>[yep, pretty, sculpture]</td>\n",
       "      <td>0</td>\n",
       "      <td>0</td>\n",
       "      <td>0</td>\n",
       "      <td>0</td>\n",
       "      <td>0</td>\n",
       "      <td>0</td>\n",
       "      <td>0</td>\n",
       "      <td>...</td>\n",
       "      <td>0</td>\n",
       "      <td>0</td>\n",
       "      <td>0</td>\n",
       "      <td>0</td>\n",
       "      <td>0</td>\n",
       "      <td>0</td>\n",
       "      <td>0</td>\n",
       "      <td>0</td>\n",
       "      <td>0</td>\n",
       "      <td>0</td>\n",
       "    </tr>\n",
       "    <tr>\n",
       "      <th>1</th>\n",
       "      <td>ham</td>\n",
       "      <td>Yes, princess. Are you going to make me moan?</td>\n",
       "      <td>[yes, princess, go, make, moan]</td>\n",
       "      <td>0</td>\n",
       "      <td>0</td>\n",
       "      <td>0</td>\n",
       "      <td>0</td>\n",
       "      <td>0</td>\n",
       "      <td>0</td>\n",
       "      <td>0</td>\n",
       "      <td>...</td>\n",
       "      <td>0</td>\n",
       "      <td>0</td>\n",
       "      <td>0</td>\n",
       "      <td>0</td>\n",
       "      <td>0</td>\n",
       "      <td>0</td>\n",
       "      <td>0</td>\n",
       "      <td>0</td>\n",
       "      <td>0</td>\n",
       "      <td>0</td>\n",
       "    </tr>\n",
       "    <tr>\n",
       "      <th>2</th>\n",
       "      <td>ham</td>\n",
       "      <td>Welp apparently he retired</td>\n",
       "      <td>[welp, apparently, retire]</td>\n",
       "      <td>0</td>\n",
       "      <td>0</td>\n",
       "      <td>0</td>\n",
       "      <td>0</td>\n",
       "      <td>0</td>\n",
       "      <td>0</td>\n",
       "      <td>0</td>\n",
       "      <td>...</td>\n",
       "      <td>0</td>\n",
       "      <td>0</td>\n",
       "      <td>0</td>\n",
       "      <td>0</td>\n",
       "      <td>0</td>\n",
       "      <td>0</td>\n",
       "      <td>0</td>\n",
       "      <td>0</td>\n",
       "      <td>0</td>\n",
       "      <td>0</td>\n",
       "    </tr>\n",
       "    <tr>\n",
       "      <th>3</th>\n",
       "      <td>ham</td>\n",
       "      <td>Havent.</td>\n",
       "      <td>[havent]</td>\n",
       "      <td>0</td>\n",
       "      <td>0</td>\n",
       "      <td>0</td>\n",
       "      <td>0</td>\n",
       "      <td>0</td>\n",
       "      <td>0</td>\n",
       "      <td>0</td>\n",
       "      <td>...</td>\n",
       "      <td>0</td>\n",
       "      <td>0</td>\n",
       "      <td>0</td>\n",
       "      <td>0</td>\n",
       "      <td>0</td>\n",
       "      <td>0</td>\n",
       "      <td>0</td>\n",
       "      <td>0</td>\n",
       "      <td>0</td>\n",
       "      <td>0</td>\n",
       "    </tr>\n",
       "    <tr>\n",
       "      <th>4</th>\n",
       "      <td>ham</td>\n",
       "      <td>I forgot 2 ask ü all smth.. There's a card on ...</td>\n",
       "      <td>[forget, ask, ü, smth, card, da, present, lei,...</td>\n",
       "      <td>0</td>\n",
       "      <td>0</td>\n",
       "      <td>0</td>\n",
       "      <td>0</td>\n",
       "      <td>0</td>\n",
       "      <td>0</td>\n",
       "      <td>0</td>\n",
       "      <td>...</td>\n",
       "      <td>0</td>\n",
       "      <td>0</td>\n",
       "      <td>0</td>\n",
       "      <td>0</td>\n",
       "      <td>0</td>\n",
       "      <td>0</td>\n",
       "      <td>0</td>\n",
       "      <td>0</td>\n",
       "      <td>0</td>\n",
       "      <td>0</td>\n",
       "    </tr>\n",
       "  </tbody>\n",
       "</table>\n",
       "<p>5 rows × 6270 columns</p>\n",
       "</div>"
      ],
      "text/plain": [
       "  class_name                                           sms_text  \\\n",
       "0        ham                       Yep, by the pretty sculpture   \n",
       "1        ham      Yes, princess. Are you going to make me moan?   \n",
       "2        ham                         Welp apparently he retired   \n",
       "3        ham                                            Havent.   \n",
       "4        ham  I forgot 2 ask ü all smth.. There's a card on ...   \n",
       "\n",
       "                                           sms_clean  rp176781  vibrant  \\\n",
       "0                           [yep, pretty, sculpture]         0        0   \n",
       "1                    [yes, princess, go, make, moan]         0        0   \n",
       "2                         [welp, apparently, retire]         0        0   \n",
       "3                                           [havent]         0        0   \n",
       "4  [forget, ask, ü, smth, card, da, present, lei,...         0        0   \n",
       "\n",
       "   lambda  lionp  okmail  fran  merry  ...  officially  cake  urination  \\\n",
       "0       0      0       0     0      0  ...           0     0          0   \n",
       "1       0      0       0     0      0  ...           0     0          0   \n",
       "2       0      0       0     0      0  ...           0     0          0   \n",
       "3       0      0       0     0      0  ...           0     0          0   \n",
       "4       0      0       0     0      0  ...           0     0          0   \n",
       "\n",
       "   stressfull  light  fgkslpo  dice  2watershd  cab  recognise  \n",
       "0           0      0        0     0          0    0          0  \n",
       "1           0      0        0     0          0    0          0  \n",
       "2           0      0        0     0          0    0          0  \n",
       "3           0      0        0     0          0    0          0  \n",
       "4           0      0        0     0          0    0          0  \n",
       "\n",
       "[5 rows x 6270 columns]"
      ]
     },
     "execution_count": 21,
     "metadata": {},
     "output_type": "execute_result"
    }
   ],
   "source": [
    "training_data_clean = pd.concat([training_set, word_counts], axis=1)\n",
    "training_data_clean.head()"
   ]
  },
  {
   "cell_type": "markdown",
   "metadata": {
    "id": "ZE58ODeaw-Zz"
   },
   "source": [
    "## Calculating Constants\n",
    "Now that we are done with data cleaning and have a training set to work with, we can begin creating the spam filter. \n",
    "As we know, the Naive Bayes algorithm will need to know the probability values of the two equations below to be able to classify new messages:\n",
    "\n",
    "![](pic2.png)\n",
    "Also, to calculate $\\ P(w_i|Spam)$ and $\\ P(w_i|Ham)$ inside the formulas above, we need to use these equations:\n",
    "![](pic3.png)\n",
    "- $\\ N_{Spam}$ is equal to the number of words in all the spam messages — it's not equal to the number of spam messages, and it's not equal to the total number of unique words in spam messages.\n",
    "- $\\ N_{Ham}$ is equal to the number of words in all the non-spam messages — it's not equal to the number of non-spam messages, and it's not equal to the total number of unique words in non-spam messages.\n",
    "- $\\ N_{Vocabulary}$ is equal to the number of unique words.\n",
    "\n",
    "We will also use Laplace smoothing and set $\\ α=1$. \n",
    "\n"
   ]
  },
  {
   "cell_type": "code",
   "execution_count": 22,
   "metadata": {
    "executionInfo": {
     "elapsed": 403,
     "status": "ok",
     "timestamp": 1634043941263,
     "user": {
      "displayName": "Руслан Кононов",
      "photoUrl": "https://lh3.googleusercontent.com/a-/AOh14GiVZ-X3ORutdtZNCrIgQy7yO1Mp7-3FEu1ErUEH=s64",
      "userId": "05800815536516945683"
     },
     "user_tz": -180
    },
    "id": "hGEiN-Xaw-Z0"
   },
   "outputs": [],
   "source": [
    "# isolate spam and ham messages \n",
    "spam_messages = training_data_clean[training_data_clean['class_name'] == 'spam']\n",
    "ham_messages = training_data_clean[training_data_clean['class_name'] == 'ham']\n",
    "\n",
    "# P(Spam) and P(Ham)\n",
    "p_spam = len(spam_messages) / len(training_data_clean)\n",
    "p_ham = len(ham_messages) / len(training_data_clean)\n",
    "\n",
    "# N_Spam\n",
    "n_words_per_spam_message = spam_messages['sms_clean'].apply(len)\n",
    "n_spam = n_words_per_spam_message.sum()\n",
    "\n",
    "# N_Ham\n",
    "n_words_per_ham_message = ham_messages['sms_clean'].apply(len)\n",
    "n_ham = n_words_per_ham_message.sum()\n",
    "\n",
    "# N_Vocabulary\n",
    "n_vocabulary = len(vocabulary)\n",
    "\n",
    "# Laplace smoothing\n",
    "alpha = 1"
   ]
  },
  {
   "cell_type": "markdown",
   "metadata": {
    "id": "TPKmbt_0w-Z1"
   },
   "source": [
    "## Calculating Parameters\n",
    "Now that we have the constant terms calculated above, we can move on with calculating the parameters $P(w_i|Spam)$ and $P(w_i|Ham)$. Each parameter will thus be a conditional probability value associated with each word in the vocabulary.\n",
    "\n",
    "The parameters are calculated using the formulas:\n",
    "$$\n",
    "P(w_i|Spam) = \\frac{N_{w_i|Spam} + \\alpha}{N_{Spam} + \\alpha \\cdot N_{Vocabulary}}\n",
    "$$$$\n",
    "P(w_i|Ham) = \\frac{N_{w_i|Ham} + \\alpha}{N_{Ham} + \\alpha \\cdot N_{Vocabulary}}\n",
    "$$"
   ]
  },
  {
   "cell_type": "code",
   "execution_count": 23,
   "metadata": {
    "executionInfo": {
     "elapsed": 1613,
     "status": "ok",
     "timestamp": 1634043942874,
     "user": {
      "displayName": "Руслан Кононов",
      "photoUrl": "https://lh3.googleusercontent.com/a-/AOh14GiVZ-X3ORutdtZNCrIgQy7yO1Mp7-3FEu1ErUEH=s64",
      "userId": "05800815536516945683"
     },
     "user_tz": -180
    },
    "id": "k96Pn5l4w-Z1"
   },
   "outputs": [],
   "source": [
    "vocabulary.remove('')\n",
    "\n",
    "denom_spam = n_spam + n_vocabulary\n",
    "denom_ham = n_ham + n_vocabulary\n",
    "\n",
    "# calculate parameters\n",
    "parameters_spam = {word: ((spam_messages[word].sum()+1)/denom_spam) for word in vocabulary}\n",
    "parameters_ham = {word: ((ham_messages[word].sum()+1)/denom_ham) for word in vocabulary}"
   ]
  },
  {
   "cell_type": "markdown",
   "metadata": {
    "id": "X_xb4Y02w-Z2"
   },
   "source": [
    "## First Round of Testing\n",
    "\n",
    "\n",
    "Now that we have all our parameters calculated, we can start creating the spam filter. The spam filter can be understood as a function that:\n",
    "- Takes in as input a new message (w$_1$, w$_2$, ..., w$_n$) \n",
    "- Calculates P(Spam|w$_1$, w$_2$, ..., w$_n$) and P(Ham|w$_1$, w$_2$, ..., w$_n$).\n",
    "- Compares the values of P(Spam|w$_1$, w$_2$, ..., w$_n$) and P(Ham|w$_1$, w$_2$, ..., w$_n$), and:\n",
    "    - If P(Ham|w$_1$, w$_2$, ..., w$_n$) > P(Spam|w$_1$, w$_2$, ..., w$_n$), then the message is classified as ham.\n",
    "    - If P(Ham|w$_1$, w$_2$, ..., w$_n$) < P(Spam|w$_1$, w$_2$, ..., w$_n$), then the message is classified as spam.\n",
    "    - If P(Ham|w$_1$, w$_2$, ..., w$_n$) = P(Spam|w$_1$, w$_2$, ..., w$_n$), then the algorithm may request human help."
   ]
  },
  {
   "cell_type": "code",
   "execution_count": 24,
   "metadata": {
    "executionInfo": {
     "elapsed": 29,
     "status": "ok",
     "timestamp": 1634043942881,
     "user": {
      "displayName": "Руслан Кононов",
      "photoUrl": "https://lh3.googleusercontent.com/a-/AOh14GiVZ-X3ORutdtZNCrIgQy7yO1Mp7-3FEu1ErUEH=s64",
      "userId": "05800815536516945683"
     },
     "user_tz": -180
    },
    "id": "k4ThCu-lw-Z2"
   },
   "outputs": [],
   "source": [
    "import re \n",
    "\n",
    "def classify(message):\n",
    "\n",
    "    message = re.sub('\\W', ' ', message)\n",
    "    message = re.sub('\\s+', ' ', message)\n",
    "    message = re.sub('\\d+', ' ', message)\n",
    "    message = message.lower()\n",
    "    message = message.split()\n",
    "    message = lemmatize_word(message)\n",
    "    \n",
    "    p_spam_given_message = p_spam\n",
    "    p_ham_given_message = p_ham \n",
    "    \n",
    "    for word in message:\n",
    "        if word in parameters_spam:\n",
    "            p_spam_given_message *= parameters_spam[word]\n",
    "        if word in parameters_ham:\n",
    "            p_ham_given_message *= parameters_ham[word]    \n",
    "\n",
    "    if p_ham_given_message > p_spam_given_message:\n",
    "        return 'ham'\n",
    "    elif p_spam_given_message > p_ham_given_message:\n",
    "        return 'spam'\n",
    "    else:\n",
    "        return 'requires human classification'"
   ]
  },
  {
   "cell_type": "markdown",
   "metadata": {
    "id": "YDiLI1TKw-Z3"
   },
   "source": [
    "Now we can test our function _classify( )_ with one spam and one non-spam message."
   ]
  },
  {
   "cell_type": "code",
   "execution_count": 25,
   "metadata": {
    "colab": {
     "base_uri": "https://localhost:8080/"
    },
    "executionInfo": {
     "elapsed": 29,
     "status": "ok",
     "timestamp": 1634043942883,
     "user": {
      "displayName": "Руслан Кононов",
      "photoUrl": "https://lh3.googleusercontent.com/a-/AOh14GiVZ-X3ORutdtZNCrIgQy7yO1Mp7-3FEu1ErUEH=s64",
      "userId": "05800815536516945683"
     },
     "user_tz": -180
    },
    "id": "HlgJdoAbw-Z3",
    "outputId": "af65696a-e46d-4fc6-8142-b47edd938b90"
   },
   "outputs": [
    {
     "name": "stdout",
     "output_type": "stream",
     "text": [
      "spam\n"
     ]
    }
   ],
   "source": [
    "# test function with a spam message\n",
    "message_spam = \"WINNER!! This is the secret code to unlock the money: C3421.\"\n",
    "print(classify(message_spam))"
   ]
  },
  {
   "cell_type": "code",
   "execution_count": 26,
   "metadata": {
    "colab": {
     "base_uri": "https://localhost:8080/"
    },
    "executionInfo": {
     "elapsed": 24,
     "status": "ok",
     "timestamp": 1634043942884,
     "user": {
      "displayName": "Руслан Кононов",
      "photoUrl": "https://lh3.googleusercontent.com/a-/AOh14GiVZ-X3ORutdtZNCrIgQy7yO1Mp7-3FEu1ErUEH=s64",
      "userId": "05800815536516945683"
     },
     "user_tz": -180
    },
    "id": "YhPqtGwMw-Z4",
    "outputId": "2be4162b-3bb1-43c9-df92-1027f175f82c"
   },
   "outputs": [
    {
     "name": "stdout",
     "output_type": "stream",
     "text": [
      "ham\n"
     ]
    }
   ],
   "source": [
    "# test function with a ham message\n",
    "message_ham = \"Sounds good, Tom, then see u there\"\n",
    "print(classify(message_ham))"
   ]
  },
  {
   "cell_type": "markdown",
   "metadata": {
    "id": "GoZ1sZeew-Z4"
   },
   "source": [
    "As we can see, the function works correctly. Now __let's test our classifier on the test set__. To evaluate performance of the classifier, we will use __accuracy__ as a metric:"
   ]
  },
  {
   "cell_type": "code",
   "execution_count": 27,
   "metadata": {
    "colab": {
     "base_uri": "https://localhost:8080/",
     "height": 204
    },
    "executionInfo": {
     "elapsed": 24,
     "status": "ok",
     "timestamp": 1634043942887,
     "user": {
      "displayName": "Руслан Кононов",
      "photoUrl": "https://lh3.googleusercontent.com/a-/AOh14GiVZ-X3ORutdtZNCrIgQy7yO1Mp7-3FEu1ErUEH=s64",
      "userId": "05800815536516945683"
     },
     "user_tz": -180
    },
    "id": "QisSiy_9w-Z5",
    "outputId": "ec51bb11-337a-44a4-a081-03253a9163eb"
   },
   "outputs": [
    {
     "data": {
      "text/html": [
       "<div>\n",
       "<style scoped>\n",
       "    .dataframe tbody tr th:only-of-type {\n",
       "        vertical-align: middle;\n",
       "    }\n",
       "\n",
       "    .dataframe tbody tr th {\n",
       "        vertical-align: top;\n",
       "    }\n",
       "\n",
       "    .dataframe thead th {\n",
       "        text-align: right;\n",
       "    }\n",
       "</style>\n",
       "<table border=\"1\" class=\"dataframe\">\n",
       "  <thead>\n",
       "    <tr style=\"text-align: right;\">\n",
       "      <th></th>\n",
       "      <th>class_name</th>\n",
       "      <th>sms_text</th>\n",
       "      <th>predicted</th>\n",
       "    </tr>\n",
       "  </thead>\n",
       "  <tbody>\n",
       "    <tr>\n",
       "      <th>0</th>\n",
       "      <td>ham</td>\n",
       "      <td>Later i guess. I needa do mcat study too.</td>\n",
       "      <td>ham</td>\n",
       "    </tr>\n",
       "    <tr>\n",
       "      <th>1</th>\n",
       "      <td>ham</td>\n",
       "      <td>But i haf enuff space got like 4 mb...</td>\n",
       "      <td>ham</td>\n",
       "    </tr>\n",
       "    <tr>\n",
       "      <th>2</th>\n",
       "      <td>spam</td>\n",
       "      <td>Had your mobile 10 mths? Update to latest Oran...</td>\n",
       "      <td>spam</td>\n",
       "    </tr>\n",
       "    <tr>\n",
       "      <th>3</th>\n",
       "      <td>ham</td>\n",
       "      <td>All sounds good. Fingers . Makes it difficult ...</td>\n",
       "      <td>ham</td>\n",
       "    </tr>\n",
       "    <tr>\n",
       "      <th>4</th>\n",
       "      <td>ham</td>\n",
       "      <td>All done, all handed in. Don't know if mega sh...</td>\n",
       "      <td>ham</td>\n",
       "    </tr>\n",
       "  </tbody>\n",
       "</table>\n",
       "</div>"
      ],
      "text/plain": [
       "  class_name                                           sms_text predicted\n",
       "0        ham          Later i guess. I needa do mcat study too.       ham\n",
       "1        ham             But i haf enuff space got like 4 mb...       ham\n",
       "2       spam  Had your mobile 10 mths? Update to latest Oran...      spam\n",
       "3        ham  All sounds good. Fingers . Makes it difficult ...       ham\n",
       "4        ham  All done, all handed in. Don't know if mega sh...       ham"
      ]
     },
     "execution_count": 27,
     "metadata": {},
     "output_type": "execute_result"
    }
   ],
   "source": [
    "# apply function to the test set\n",
    "test_set['predicted'] = test_set['sms_text'].apply(classify)\n",
    "test_set.head()"
   ]
  },
  {
   "cell_type": "code",
   "execution_count": 28,
   "metadata": {
    "colab": {
     "base_uri": "https://localhost:8080/"
    },
    "executionInfo": {
     "elapsed": 23,
     "status": "ok",
     "timestamp": 1634043942888,
     "user": {
      "displayName": "Руслан Кононов",
      "photoUrl": "https://lh3.googleusercontent.com/a-/AOh14GiVZ-X3ORutdtZNCrIgQy7yO1Mp7-3FEu1ErUEH=s64",
      "userId": "05800815536516945683"
     },
     "user_tz": -180
    },
    "id": "TeTH8h5Ow-Z6",
    "outputId": "cc39254b-3f08-4850-c778-61c20084ecd1"
   },
   "outputs": [
    {
     "name": "stdout",
     "output_type": "stream",
     "text": [
      "Correct: 1094\n",
      "Incorrect 20\n",
      "Accuracy: 98.20466786355476\n"
     ]
    }
   ],
   "source": [
    "correct = test_set.class_name == test_set.predicted\n",
    "print(\"Correct: {}\".format(correct.sum()))\n",
    "print(\"Incorrect {}\".format(len(test_set)-correct.sum()))\n",
    "print(\"Accuracy: {}\".format(correct.sum()/len(test_set)*100))"
   ]
  },
  {
   "cell_type": "markdown",
   "metadata": {
    "id": "Xyb9uScFw-Z6"
   },
   "source": [
    "So for, we have managed to build a spam classifier based on the multinomial Naive Bayes algorithm that achieves __accuracy of 98.20% on the test set__. This is undoubtedly an excellent result. Nevertheless, we can see that 20 messages have been classified incorrectly. Let's have a look at them to see if we can somehow improve our algorithm. \n",
    "\n",
    "## Additional Tuning and Feature Engineering"
   ]
  },
  {
   "cell_type": "code",
   "execution_count": 29,
   "metadata": {
    "colab": {
     "base_uri": "https://localhost:8080/",
     "height": 703
    },
    "executionInfo": {
     "elapsed": 24,
     "status": "ok",
     "timestamp": 1634043942892,
     "user": {
      "displayName": "Руслан Кононов",
      "photoUrl": "https://lh3.googleusercontent.com/a-/AOh14GiVZ-X3ORutdtZNCrIgQy7yO1Mp7-3FEu1ErUEH=s64",
      "userId": "05800815536516945683"
     },
     "user_tz": -180
    },
    "id": "nO58_tMq8ite",
    "outputId": "47e7e8c6-5b41-4f3b-9594-7b6c83eb4030"
   },
   "outputs": [
    {
     "data": {
      "text/html": [
       "<div>\n",
       "<style scoped>\n",
       "    .dataframe tbody tr th:only-of-type {\n",
       "        vertical-align: middle;\n",
       "    }\n",
       "\n",
       "    .dataframe tbody tr th {\n",
       "        vertical-align: top;\n",
       "    }\n",
       "\n",
       "    .dataframe thead th {\n",
       "        text-align: right;\n",
       "    }\n",
       "</style>\n",
       "<table border=\"1\" class=\"dataframe\">\n",
       "  <thead>\n",
       "    <tr style=\"text-align: right;\">\n",
       "      <th></th>\n",
       "      <th>class_name</th>\n",
       "      <th>sms_text</th>\n",
       "    </tr>\n",
       "  </thead>\n",
       "  <tbody>\n",
       "    <tr>\n",
       "      <th>114</th>\n",
       "      <td>spam</td>\n",
       "      <td>Not heard from U4 a while. Call me now am here all night with just my knickers on. Make me beg for it like U did last time 01223585236 XX Luv Nikiyu4.net</td>\n",
       "    </tr>\n",
       "    <tr>\n",
       "      <th>135</th>\n",
       "      <td>spam</td>\n",
       "      <td>More people are dogging in your area now. Call 09090204448 and join like minded guys. Why not arrange 1 yourself. There's 1 this evening. A£1.50 minAPN LS278BB</td>\n",
       "    </tr>\n",
       "    <tr>\n",
       "      <th>152</th>\n",
       "      <td>ham</td>\n",
       "      <td>Unlimited texts. Limited minutes.</td>\n",
       "    </tr>\n",
       "    <tr>\n",
       "      <th>182</th>\n",
       "      <td>ham</td>\n",
       "      <td>Surely result will offer:)</td>\n",
       "    </tr>\n",
       "    <tr>\n",
       "      <th>195</th>\n",
       "      <td>ham</td>\n",
       "      <td>Hi.:)technical support.providing assistance to us customer through call and email:)</td>\n",
       "    </tr>\n",
       "    <tr>\n",
       "      <th>263</th>\n",
       "      <td>spam</td>\n",
       "      <td>TheMob&gt;Yo yo yo-Here comes a new selection of hot downloads for our members to get for FREE! Just click &amp; open the next link sent to ur fone...</td>\n",
       "    </tr>\n",
       "    <tr>\n",
       "      <th>284</th>\n",
       "      <td>ham</td>\n",
       "      <td>Nokia phone is lovly..</td>\n",
       "    </tr>\n",
       "    <tr>\n",
       "      <th>319</th>\n",
       "      <td>ham</td>\n",
       "      <td>We have sent JD for Customer Service cum Accounts Executive to ur mail id, For details contact us</td>\n",
       "    </tr>\n",
       "    <tr>\n",
       "      <th>363</th>\n",
       "      <td>spam</td>\n",
       "      <td>Email AlertFrom: Jeri StewartSize: 2KBSubject: Low-cost prescripiton drvgsTo listen to email call 123</td>\n",
       "    </tr>\n",
       "    <tr>\n",
       "      <th>500</th>\n",
       "      <td>spam</td>\n",
       "      <td>Ur balance is now £600. Next question: Complete the landmark, Big, A. Bob, B. Barry or C. Ben ?. Text A, B or C to 83738. Good luck!</td>\n",
       "    </tr>\n",
       "    <tr>\n",
       "      <th>504</th>\n",
       "      <td>spam</td>\n",
       "      <td>Oh my god! I've found your number again! I'm so glad, text me back xafter this msgs cst std ntwk chg £1.50</td>\n",
       "    </tr>\n",
       "    <tr>\n",
       "      <th>604</th>\n",
       "      <td>spam</td>\n",
       "      <td>88066 FROM 88066 LOST 3POUND HELP</td>\n",
       "    </tr>\n",
       "    <tr>\n",
       "      <th>649</th>\n",
       "      <td>spam</td>\n",
       "      <td>Am new 2 club &amp; dont fink we met yet Will B gr8 2 C U Please leave msg 2day wiv ur area 09099726553 reply promised CARLIE x Calls£1/minMobsmore LKPOBOX177HP51FL</td>\n",
       "    </tr>\n",
       "    <tr>\n",
       "      <th>673</th>\n",
       "      <td>spam</td>\n",
       "      <td>Burger King - Wanna play footy at a top stadium? Get 2 Burger King before 1st Sept and go Large or Super with Coca-Cola and walk out a winner</td>\n",
       "    </tr>\n",
       "    <tr>\n",
       "      <th>689</th>\n",
       "      <td>ham</td>\n",
       "      <td>Networking technical support associate.</td>\n",
       "    </tr>\n",
       "    <tr>\n",
       "      <th>754</th>\n",
       "      <td>ham</td>\n",
       "      <td>I am getting threats from your sales executive Shifad as i raised complaint against him. Its an official message.</td>\n",
       "    </tr>\n",
       "    <tr>\n",
       "      <th>779</th>\n",
       "      <td>ham</td>\n",
       "      <td>Can... I'm free...</td>\n",
       "    </tr>\n",
       "    <tr>\n",
       "      <th>876</th>\n",
       "      <td>spam</td>\n",
       "      <td>RCT' THNQ Adrian for U text. Rgds Vatian</td>\n",
       "    </tr>\n",
       "    <tr>\n",
       "      <th>885</th>\n",
       "      <td>spam</td>\n",
       "      <td>2/2 146tf150p</td>\n",
       "    </tr>\n",
       "    <tr>\n",
       "      <th>953</th>\n",
       "      <td>spam</td>\n",
       "      <td>Hello. We need some posh birds and chaps to user trial prods for champneys. Can i put you down? I need your address and dob asap. Ta r</td>\n",
       "    </tr>\n",
       "  </tbody>\n",
       "</table>\n",
       "</div>"
      ],
      "text/plain": [
       "    class_name  \\\n",
       "114       spam   \n",
       "135       spam   \n",
       "152        ham   \n",
       "182        ham   \n",
       "195        ham   \n",
       "263       spam   \n",
       "284        ham   \n",
       "319        ham   \n",
       "363       spam   \n",
       "500       spam   \n",
       "504       spam   \n",
       "604       spam   \n",
       "649       spam   \n",
       "673       spam   \n",
       "689        ham   \n",
       "754        ham   \n",
       "779        ham   \n",
       "876       spam   \n",
       "885       spam   \n",
       "953       spam   \n",
       "\n",
       "                                                                                                                                                             sms_text  \n",
       "114         Not heard from U4 a while. Call me now am here all night with just my knickers on. Make me beg for it like U did last time 01223585236 XX Luv Nikiyu4.net  \n",
       "135   More people are dogging in your area now. Call 09090204448 and join like minded guys. Why not arrange 1 yourself. There's 1 this evening. A£1.50 minAPN LS278BB  \n",
       "152                                                                                                                                 Unlimited texts. Limited minutes.  \n",
       "182                                                                                                                                        Surely result will offer:)  \n",
       "195                                                                               Hi.:)technical support.providing assistance to us customer through call and email:)  \n",
       "263                   TheMob>Yo yo yo-Here comes a new selection of hot downloads for our members to get for FREE! Just click & open the next link sent to ur fone...  \n",
       "284                                                                                                                                            Nokia phone is lovly..  \n",
       "319                                                                 We have sent JD for Customer Service cum Accounts Executive to ur mail id, For details contact us  \n",
       "363                                                             Email AlertFrom: Jeri StewartSize: 2KBSubject: Low-cost prescripiton drvgsTo listen to email call 123  \n",
       "500                              Ur balance is now £600. Next question: Complete the landmark, Big, A. Bob, B. Barry or C. Ben ?. Text A, B or C to 83738. Good luck!  \n",
       "504                                                        Oh my god! I've found your number again! I'm so glad, text me back xafter this msgs cst std ntwk chg £1.50  \n",
       "604                                                                                                                                 88066 FROM 88066 LOST 3POUND HELP  \n",
       "649  Am new 2 club & dont fink we met yet Will B gr8 2 C U Please leave msg 2day wiv ur area 09099726553 reply promised CARLIE x Calls£1/minMobsmore LKPOBOX177HP51FL  \n",
       "673                     Burger King - Wanna play footy at a top stadium? Get 2 Burger King before 1st Sept and go Large or Super with Coca-Cola and walk out a winner  \n",
       "689                                                                                                                           Networking technical support associate.  \n",
       "754                                                 I am getting threats from your sales executive Shifad as i raised complaint against him. Its an official message.  \n",
       "779                                                                                                                                                Can... I'm free...  \n",
       "876                                                                                                                          RCT' THNQ Adrian for U text. Rgds Vatian  \n",
       "885                                                                                                                                                     2/2 146tf150p  \n",
       "953                            Hello. We need some posh birds and chaps to user trial prods for champneys. Can i put you down? I need your address and dob asap. Ta r  "
      ]
     },
     "execution_count": 29,
     "metadata": {},
     "output_type": "execute_result"
    }
   ],
   "source": [
    "# show entire text in a column\n",
    "pd.set_option('display.max_colwidth', None)\n",
    "# display misclassified messages\n",
    "test_set[test_set['predicted']!=test_set['class_name']][['class_name','sms_text']]"
   ]
  },
  {
   "cell_type": "markdown",
   "metadata": {
    "id": "2SkBCynS-Lzc"
   },
   "source": [
    "As we can see above, __there are two distinctive features of spam messages that we tend to discard during the pre-processing phase__. Firstly, 4 __spam messages__ out of 12 messages __have a currency sign__ - `£`. Secondly, __spam messages tend to have words in capital letters__. The latter may help scammers / spammers attract receivers' attention and urge them to act without giving it a second thought. __Let's check if both our assumptions are valid__. "
   ]
  },
  {
   "cell_type": "code",
   "execution_count": 30,
   "metadata": {
    "colab": {
     "base_uri": "https://localhost:8080/",
     "height": 111
    },
    "executionInfo": {
     "elapsed": 763,
     "status": "ok",
     "timestamp": 1634043943635,
     "user": {
      "displayName": "Руслан Кононов",
      "photoUrl": "https://lh3.googleusercontent.com/a-/AOh14GiVZ-X3ORutdtZNCrIgQy7yO1Mp7-3FEu1ErUEH=s64",
      "userId": "05800815536516945683"
     },
     "user_tz": -180
    },
    "id": "vkNcRI1M_5YT",
    "outputId": "6d381053-67ec-41a3-a56c-f3eb3db3f4a8"
   },
   "outputs": [
    {
     "data": {
      "text/html": [
       "<div>\n",
       "<style scoped>\n",
       "    .dataframe tbody tr th:only-of-type {\n",
       "        vertical-align: middle;\n",
       "    }\n",
       "\n",
       "    .dataframe tbody tr th {\n",
       "        vertical-align: top;\n",
       "    }\n",
       "\n",
       "    .dataframe thead th {\n",
       "        text-align: right;\n",
       "    }\n",
       "</style>\n",
       "<table border=\"1\" class=\"dataframe\">\n",
       "  <thead>\n",
       "    <tr style=\"text-align: right;\">\n",
       "      <th></th>\n",
       "      <th>class_name</th>\n",
       "      <th>money_sign</th>\n",
       "      <th>fraction</th>\n",
       "    </tr>\n",
       "  </thead>\n",
       "  <tbody>\n",
       "    <tr>\n",
       "      <th>0</th>\n",
       "      <td>ham</td>\n",
       "      <td>5</td>\n",
       "      <td>0.13</td>\n",
       "    </tr>\n",
       "    <tr>\n",
       "      <th>1</th>\n",
       "      <td>spam</td>\n",
       "      <td>204</td>\n",
       "      <td>34.00</td>\n",
       "    </tr>\n",
       "  </tbody>\n",
       "</table>\n",
       "</div>"
      ],
      "text/plain": [
       "  class_name  money_sign  fraction\n",
       "0        ham           5      0.13\n",
       "1       spam         204     34.00"
      ]
     },
     "execution_count": 30,
     "metadata": {},
     "output_type": "execute_result"
    }
   ],
   "source": [
    "# if there is a currency sign in a message, 'money_sign' feature equals 1, otherwise 0\n",
    "training_set['money_sign'] = training_set.apply(lambda x:1 if '£' in x['sms_text'] else 0, axis=1)\n",
    "\n",
    "# calculate total number of messages containing currency sign by target class name in the training set  \n",
    "group1 = training_set[['money_sign','class_name']].groupby(by='class_name').sum().reset_index()\n",
    "\n",
    "# calculate total number of ham messages in the training set  \n",
    "n_ham_messages = (training_set['class_name']=='ham').sum()\n",
    "\n",
    "# calculate total number of spam messages in the training set  \n",
    "n_spam_messages = (training_set['class_name']=='spam').sum()\n",
    "\n",
    "# calculate fractions\n",
    "group1['fraction'] = group1.apply(lambda x:(x.money_sign/n_ham_messages) if x.class_name=='ham' else (x.money_sign/n_spam_messages),axis=1)\n",
    "group1['fraction'] = round(group1['fraction'] * 100,2)\n",
    "group1"
   ]
  },
  {
   "cell_type": "code",
   "execution_count": 31,
   "metadata": {
    "colab": {
     "base_uri": "https://localhost:8080/",
     "height": 523
    },
    "executionInfo": {
     "elapsed": 452,
     "status": "ok",
     "timestamp": 1634043961822,
     "user": {
      "displayName": "Руслан Кононов",
      "photoUrl": "https://lh3.googleusercontent.com/a-/AOh14GiVZ-X3ORutdtZNCrIgQy7yO1Mp7-3FEu1ErUEH=s64",
      "userId": "05800815536516945683"
     },
     "user_tz": -180
    },
    "id": "3T0T90liEeaU",
    "outputId": "d2facfab-95ea-4b13-bb31-d3246e536acc"
   },
   "outputs": [
    {
     "data": {
      "image/png": "[encoded data removed]",
      "text/plain": [
       "<Figure size 864x504 with 2 Axes>"
      ]
     },
     "metadata": {},
     "output_type": "display_data"
    }
   ],
   "source": [
    "# display distribution of currency sign in the training sets by target class\n",
    "fig = plt.figure(figsize=(12,7))\n",
    "ax1 = fig.add_subplot(1,2,1)\n",
    "ax1.pie([group1['fraction'].iloc[0], 100-group1['fraction'].iloc[0]], labels=['Yes','No'], autopct='%1.1f%%',\n",
    "        shadow=True, startangle=90, textprops={'fontsize': 14})\n",
    "ax1.axis('equal')  \n",
    "ax1.set_title('Ham messages', y=0.9, size=16)\n",
    "\n",
    "ax2 = fig.add_subplot(1,2,2)\n",
    "ax2.pie([group1['fraction'].iloc[1], 100-group1['fraction'].iloc[1]], labels=['Yes','No'], autopct='%1.1f%%',\n",
    "        shadow=True, startangle=90, textprops={'fontsize': 14})\n",
    "ax2.axis('equal')\n",
    "ax2.set_title('Spam messages', y=0.9, size=16)\n",
    "fig.suptitle('Probability of a currency sign to appear in a message\\n by class name', fontsize=18)\n",
    "plt.show()"
   ]
  },
  {
   "cell_type": "markdown",
   "metadata": {
    "id": "uZ3vtqb_oO1m"
   },
   "source": [
    "__The graph above vividly shows that spam messages are more likely to contain currency signs__. Therefore, our initial assumption has been valid. __We can add__ `money_sign` __to our corpus of parameters__. Let's check if our assumption holds true regarding words in capital letters."
   ]
  },
  {
   "cell_type": "code",
   "execution_count": 32,
   "metadata": {
    "colab": {
     "base_uri": "https://localhost:8080/",
     "height": 111
    },
    "executionInfo": {
     "elapsed": 26,
     "status": "ok",
     "timestamp": 1634043943639,
     "user": {
      "displayName": "Руслан Кононов",
      "photoUrl": "https://lh3.googleusercontent.com/a-/AOh14GiVZ-X3ORutdtZNCrIgQy7yO1Mp7-3FEu1ErUEH=s64",
      "userId": "05800815536516945683"
     },
     "user_tz": -180
    },
    "id": "e_RrZiZYNYLC",
    "outputId": "3818e175-2135-48b2-899a-1d83d3380846"
   },
   "outputs": [
    {
     "data": {
      "text/html": [
       "<div>\n",
       "<style scoped>\n",
       "    .dataframe tbody tr th:only-of-type {\n",
       "        vertical-align: middle;\n",
       "    }\n",
       "\n",
       "    .dataframe tbody tr th {\n",
       "        vertical-align: top;\n",
       "    }\n",
       "\n",
       "    .dataframe thead th {\n",
       "        text-align: right;\n",
       "    }\n",
       "</style>\n",
       "<table border=\"1\" class=\"dataframe\">\n",
       "  <thead>\n",
       "    <tr style=\"text-align: right;\">\n",
       "      <th></th>\n",
       "      <th>class_name</th>\n",
       "      <th>has_caps</th>\n",
       "      <th>fraction</th>\n",
       "    </tr>\n",
       "  </thead>\n",
       "  <tbody>\n",
       "    <tr>\n",
       "      <th>0</th>\n",
       "      <td>ham</td>\n",
       "      <td>1588</td>\n",
       "      <td>5.11</td>\n",
       "    </tr>\n",
       "    <tr>\n",
       "      <th>1</th>\n",
       "      <td>spam</td>\n",
       "      <td>1279</td>\n",
       "      <td>13.95</td>\n",
       "    </tr>\n",
       "  </tbody>\n",
       "</table>\n",
       "</div>"
      ],
      "text/plain": [
       "  class_name  has_caps  fraction\n",
       "0        ham      1588      5.11\n",
       "1       spam      1279     13.95"
      ]
     },
     "execution_count": 32,
     "metadata": {},
     "output_type": "execute_result"
    }
   ],
   "source": [
    "import re\n",
    "\n",
    "def calc_uppercase_words(text):\n",
    "    return len(re.findall(r\"\\b[A-Z]{2,}\\b\", text))\n",
    "\n",
    "training_set['has_caps'] = training_set['sms_text'].apply(calc_uppercase_words) \n",
    "\n",
    "# calculate total number of messages containing currency sign by target class name in the training set  \n",
    "group2 = training_set[['has_caps','class_name']].groupby(by='class_name').sum().reset_index()\n",
    "\n",
    "# calculate fractions\n",
    "group2['fraction'] = group2.apply(lambda x:(x.has_caps/n_ham) if x.class_name=='ham' else (x.has_caps/n_spam),axis=1)\n",
    "group2['fraction'] = round(group2['fraction'] * 100,2)\n",
    "group2"
   ]
  },
  {
   "cell_type": "code",
   "execution_count": 33,
   "metadata": {
    "colab": {
     "base_uri": "https://localhost:8080/",
     "height": 523
    },
    "executionInfo": {
     "elapsed": 514,
     "status": "ok",
     "timestamp": 1634043944130,
     "user": {
      "displayName": "Руслан Кононов",
      "photoUrl": "https://lh3.googleusercontent.com/a-/AOh14GiVZ-X3ORutdtZNCrIgQy7yO1Mp7-3FEu1ErUEH=s64",
      "userId": "05800815536516945683"
     },
     "user_tz": -180
    },
    "id": "wQM2Aj6MnRVX",
    "outputId": "65985d84-e9e4-42d9-ee08-533ec3eddb7b"
   },
   "outputs": [
    {
     "data": {
      "image/png": "[encoded data removed]",
      "text/plain": [
       "<Figure size 864x504 with 2 Axes>"
      ]
     },
     "metadata": {},
     "output_type": "display_data"
    }
   ],
   "source": [
    "# display probability of words in capital letters in the training sets by target class\n",
    "fig = plt.figure(figsize=(12,7))\n",
    "ax1 = fig.add_subplot(1,2,1)\n",
    "ax1.pie([group2['fraction'].iloc[0], 100-group2['fraction'].iloc[0]], labels=['Yes','No'], autopct='%1.1f%%',\n",
    "        shadow=True, startangle=90, textprops={'fontsize': 14})\n",
    "ax1.axis('equal')  \n",
    "ax1.set_title('Ham messages', y=0.9, size=16)\n",
    "\n",
    "ax2 = fig.add_subplot(1,2,2)\n",
    "ax2.pie([group2['fraction'].iloc[1], 100-group2['fraction'].iloc[1]], labels=['Yes','No'], autopct='%1.1f%%',\n",
    "        shadow=True, startangle=90, textprops={'fontsize': 14})\n",
    "ax2.axis('equal')\n",
    "ax2.set_title('Spam messages', y=0.9, size=16)\n",
    "fig.suptitle('Probability of a word in capital letters to appear in a message\\n by class name', fontsize=18)\n",
    "plt.show()"
   ]
  },
  {
   "cell_type": "markdown",
   "metadata": {
    "id": "sFRInh25oKxJ"
   },
   "source": [
    "__The numbers on the graph above suggest that words in capital letters are also more likely to appear in spam messages__. Therefore, both our assumption are valid. We will add `has_caps` and `money_sign` to the corpus of parameters and then check the performance of our classifier. However, before we start recalculating our parameters, let's also check top 20 words with the highest probability of occuring in spam and ham messages."
   ]
  },
  {
   "cell_type": "code",
   "execution_count": 34,
   "metadata": {},
   "outputs": [
    {
     "data": {
      "image/png": "[encoded data removed]",
      "text/plain": [
       "<Figure size 864x576 with 1 Axes>"
      ]
     },
     "metadata": {},
     "output_type": "display_data"
    }
   ],
   "source": [
    "series_spam = pd.Series(parameters_spam)\n",
    "series_spam = series_spam.sort_values(ascending=False)[:20]\n",
    "\n",
    "fig, ax = plt.subplots(figsize=(12,8))\n",
    "ax.barh(series_spam.index,series_spam)\n",
    "plt.setp(ax.get_yticklabels(),size=12)\n",
    "ax.invert_yaxis()\n",
    "fig.suptitle('Most significant words for a message to\\n classified be as spam', fontsize=18)\n",
    "plt.show()"
   ]
  },
  {
   "cell_type": "markdown",
   "metadata": {},
   "source": [
    "As we can see, __some of the words such as__ `free`, `prize`, `www`, `claim`, __or__ `cash` __we naturally expect to enconter in spam messages__. However, __words like__ `u` __or__ `ur` __seem to be common in any context__. Therefore, __we will exclude those two words from our vocabulary__."
   ]
  },
  {
   "cell_type": "code",
   "execution_count": 35,
   "metadata": {},
   "outputs": [
    {
     "data": {
      "image/png": "[encoded data removed]",
      "text/plain": [
       "<Figure size 864x576 with 1 Axes>"
      ]
     },
     "metadata": {},
     "output_type": "display_data"
    }
   ],
   "source": [
    "series_ham = pd.Series(parameters_ham)\n",
    "series_ham = series_ham.sort_values(ascending=False)[:20]\n",
    "\n",
    "# display distribution of values in training and test sets\n",
    "fig, ax = plt.subplots(figsize=(12,8))\n",
    "ax.barh(series_ham.index,series_ham)\n",
    "plt.setp(ax.get_yticklabels(),size=12)\n",
    "ax.invert_yaxis()\n",
    "fig.suptitle('Most significant words for a message to\\n be classified as ham', fontsize=18)\n",
    "plt.show()"
   ]
  },
  {
   "cell_type": "markdown",
   "metadata": {},
   "source": [
    "Based on the graph above, __we can conclude that most of the presented words seem to suit the context of ham messages quite well. However, as in the previous graph, the words__ `u` __and__ `ur` __should not be in our vocabulary__. "
   ]
  },
  {
   "cell_type": "code",
   "execution_count": 36,
   "metadata": {},
   "outputs": [],
   "source": [
    "# remove words from the vocabularly\n",
    "vocabulary.remove('u') \n",
    "vocabulary.remove('ur') "
   ]
  },
  {
   "cell_type": "markdown",
   "metadata": {
    "id": "yX9Gq9ilumMS"
   },
   "source": [
    "## Re-calculating Parameters\n",
    "Since we have now finised our investigation, let's calculate parameters for two more features - `money_sign` and `has_caps`. We assume that adding those two features may help improve accuracy of our classifier."
   ]
  },
  {
   "cell_type": "code",
   "execution_count": 37,
   "metadata": {},
   "outputs": [],
   "source": [
    "# add features to the vocabulary\n",
    "vocabulary.append('money_sign') \n",
    "vocabulary.append('has_caps') "
   ]
  },
  {
   "cell_type": "code",
   "execution_count": 38,
   "metadata": {},
   "outputs": [],
   "source": [
    "# add frequencies of the features to the training data set\n",
    "training_data_clean['has_caps'] = training_set['has_caps']\n",
    "training_data_clean['money_sign'] = training_set['money_sign']\n",
    "\n",
    "spam_messages = training_data_clean[training_data_clean['class_name'] == 'spam']\n",
    "ham_messages = training_data_clean[training_data_clean['class_name'] == 'ham']"
   ]
  },
  {
   "cell_type": "code",
   "execution_count": 39,
   "metadata": {},
   "outputs": [],
   "source": [
    "# recalculate parameters\n",
    "parameters_spam = {word: ((spam_messages[word].sum()+1)/denom_spam) for word in vocabulary}\n",
    "parameters_ham = {word: ((ham_messages[word].sum()+1)/denom_ham) for word in vocabulary}"
   ]
  },
  {
   "cell_type": "code",
   "execution_count": 40,
   "metadata": {},
   "outputs": [],
   "source": [
    "# update the function \n",
    "def classify(message):\n",
    "    \n",
    "    money_sign = False\n",
    "    \n",
    "    # check if there is any money sign in the input message\n",
    "    if '£' in message:\n",
    "        money_sign = True\n",
    "        \n",
    "    # calculate number of words in capital in the input message\n",
    "    n_capitals = calc_uppercase_words(message)\n",
    "    \n",
    "    # preprocess input message\n",
    "    message = re.sub('\\W', ' ', message)\n",
    "    message = re.sub('\\s+', ' ', message)\n",
    "    message = re.sub('\\d+', ' ', message)\n",
    "    message = message.lower()\n",
    "    message = message.split()\n",
    "    message = lemmatize_word(message)\n",
    "\n",
    "    if money_sign:\n",
    "        message.append('money_sign')\n",
    "    \n",
    "    p_spam_given_message = p_spam\n",
    "    p_ham_given_message = p_ham \n",
    "    \n",
    "    for word in message:\n",
    "        if word in parameters_spam:\n",
    "            p_spam_given_message *= parameters_spam[word]\n",
    "        if word in parameters_ham:\n",
    "            p_ham_given_message *= parameters_ham[word]\n",
    "            \n",
    "    if n_capitals > 0:\n",
    "        p_spam_given_message *= parameters_spam['has_caps']\n",
    "        p_ham_given_message *= parameters_ham['has_caps']\n",
    "\n",
    "    if p_ham_given_message > p_spam_given_message:\n",
    "        return 'ham'\n",
    "    elif p_spam_given_message > p_ham_given_message:\n",
    "        return 'spam'\n",
    "    else:\n",
    "        return 'requires human classification'"
   ]
  },
  {
   "cell_type": "code",
   "execution_count": 41,
   "metadata": {},
   "outputs": [
    {
     "data": {
      "text/html": [
       "<div>\n",
       "<style scoped>\n",
       "    .dataframe tbody tr th:only-of-type {\n",
       "        vertical-align: middle;\n",
       "    }\n",
       "\n",
       "    .dataframe tbody tr th {\n",
       "        vertical-align: top;\n",
       "    }\n",
       "\n",
       "    .dataframe thead th {\n",
       "        text-align: right;\n",
       "    }\n",
       "</style>\n",
       "<table border=\"1\" class=\"dataframe\">\n",
       "  <thead>\n",
       "    <tr style=\"text-align: right;\">\n",
       "      <th></th>\n",
       "      <th>class_name</th>\n",
       "      <th>sms_text</th>\n",
       "      <th>predicted</th>\n",
       "    </tr>\n",
       "  </thead>\n",
       "  <tbody>\n",
       "    <tr>\n",
       "      <th>0</th>\n",
       "      <td>ham</td>\n",
       "      <td>Later i guess. I needa do mcat study too.</td>\n",
       "      <td>ham</td>\n",
       "    </tr>\n",
       "    <tr>\n",
       "      <th>1</th>\n",
       "      <td>ham</td>\n",
       "      <td>But i haf enuff space got like 4 mb...</td>\n",
       "      <td>ham</td>\n",
       "    </tr>\n",
       "    <tr>\n",
       "      <th>2</th>\n",
       "      <td>spam</td>\n",
       "      <td>Had your mobile 10 mths? Update to latest Orange camera/video phones for FREE. Save £s with Free texts/weekend calls. Text YES for a callback orno to opt out</td>\n",
       "      <td>spam</td>\n",
       "    </tr>\n",
       "    <tr>\n",
       "      <th>3</th>\n",
       "      <td>ham</td>\n",
       "      <td>All sounds good. Fingers . Makes it difficult to type</td>\n",
       "      <td>ham</td>\n",
       "    </tr>\n",
       "    <tr>\n",
       "      <th>4</th>\n",
       "      <td>ham</td>\n",
       "      <td>All done, all handed in. Don't know if mega shop in asda counts as celebration but thats what i'm doing!</td>\n",
       "      <td>ham</td>\n",
       "    </tr>\n",
       "  </tbody>\n",
       "</table>\n",
       "</div>"
      ],
      "text/plain": [
       "  class_name  \\\n",
       "0        ham   \n",
       "1        ham   \n",
       "2       spam   \n",
       "3        ham   \n",
       "4        ham   \n",
       "\n",
       "                                                                                                                                                        sms_text  \\\n",
       "0                                                                                                                      Later i guess. I needa do mcat study too.   \n",
       "1                                                                                                                         But i haf enuff space got like 4 mb...   \n",
       "2  Had your mobile 10 mths? Update to latest Orange camera/video phones for FREE. Save £s with Free texts/weekend calls. Text YES for a callback orno to opt out   \n",
       "3                                                                                                          All sounds good. Fingers . Makes it difficult to type   \n",
       "4                                                       All done, all handed in. Don't know if mega shop in asda counts as celebration but thats what i'm doing!   \n",
       "\n",
       "  predicted  \n",
       "0       ham  \n",
       "1       ham  \n",
       "2      spam  \n",
       "3       ham  \n",
       "4       ham  "
      ]
     },
     "execution_count": 41,
     "metadata": {},
     "output_type": "execute_result"
    }
   ],
   "source": [
    "# apply function to the test set\n",
    "test_set['predicted'] = test_set['sms_text'].apply(classify)\n",
    "test_set.head()"
   ]
  },
  {
   "cell_type": "code",
   "execution_count": 42,
   "metadata": {},
   "outputs": [
    {
     "name": "stdout",
     "output_type": "stream",
     "text": [
      "Correct: 1098\n",
      "Incorrect 16\n",
      "Accuracy: 98.56373429084381\n"
     ]
    }
   ],
   "source": [
    "correct = test_set.class_name == test_set.predicted\n",
    "print(\"Correct: {}\".format(correct.sum()))\n",
    "print(\"Incorrect {}\".format(len(test_set)-correct.sum()))\n",
    "print(\"Accuracy: {}\".format(correct.sum()/len(test_set)*100))"
   ]
  },
  {
   "cell_type": "markdown",
   "metadata": {},
   "source": [
    "Now, __due to feature engineering and more closer look into the data, we have achieved a superior performance of the classifier__. So let's now make our conclusions."
   ]
  },
  {
   "cell_type": "markdown",
   "metadata": {
    "id": "2XBmypPvuoo_"
   },
   "source": [
    "## Conclusions\n",
    "\n",
    "In this project, we have learnt than:\n",
    "\n",
    "- assigning probabilities to events based on conditional probability rules and using Bayes' theorem is still a valid approach that yields good results.\n",
    "- create a spam classifier for SMS messages using the multinomial Naive Bayes algorithm can help build a fairly simple and fully interpretable classifier.\n",
    "- digging into training data may help find inconsistencies, engineer new features or make interesing observations that improve performance and robustness of the classifier. "
   ]
  }
 ],
 "metadata": {
  "colab": {
   "collapsed_sections": [],
   "name": "Building a Spam Filter with Naive Bayes.ipynb",
   "provenance": []
  },
  "kernelspec": {
   "display_name": "Python 3",
   "language": "python",
   "name": "python3"
  },
  "language_info": {
   "codemirror_mode": {
    "name": "ipython",
    "version": 3
   },
   "file_extension": ".py",
   "mimetype": "text/x-python",
   "name": "python",
   "nbconvert_exporter": "python",
   "pygments_lexer": "ipython3",
   "version": "3.8.8"
  }
 },
 "nbformat": 4,
 "nbformat_minor": 1
}
